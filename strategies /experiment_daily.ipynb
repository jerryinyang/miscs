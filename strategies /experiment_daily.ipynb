{
 "cells": [
  {
   "cell_type": "markdown",
   "metadata": {},
   "source": [
    "# EXPERIMENT ON STARTEGIES ON THE DAILY TIMEFRAME\n"
   ]
  },
  {
   "cell_type": "code",
   "execution_count": 16,
   "metadata": {},
   "outputs": [],
   "source": [
    "import matplotlib.pyplot as plt\n",
    "import numpy as np\n",
    "import pandas as pd\n",
    "import pandas_ta as ta\n",
    "import yfinance as yf\n"
   ]
  },
  {
   "cell_type": "code",
   "execution_count": 17,
   "metadata": {},
   "outputs": [
    {
     "name": "stderr",
     "output_type": "stream",
     "text": [
      "[*********************100%%**********************]  1 of 1 completed\n",
      "[*********************100%%**********************]  1 of 1 completed\n",
      "[*********************100%%**********************]  1 of 1 completed\n"
     ]
    }
   ],
   "source": [
    "# Define ticker symbols\n",
    "es_ticker = \"ES=F\"  # S&P 500 as a proxy for ES futures\n",
    "dxy_ticker = \"DX-Y.NYB\"\n",
    "vix_ticker = \"^VIX\"\n",
    "\n",
    "full_daterange = pd.date_range('2000-01-01', '2024-04-20', freq='D')\n",
    "train_daterange = pd.date_range('2000-01-01', '2020-12-31', freq='D')\n",
    "test_daterange = pd.date_range('2021-01-01', '2024-04-30', freq='D')\n",
    "\n",
    "df_es = yf.download(es_ticker)\n",
    "df_dxy = yf.download(dxy_ticker)\n",
    "df_vix = yf.download(vix_ticker)"
   ]
  },
  {
   "cell_type": "code",
   "execution_count": 30,
   "metadata": {},
   "outputs": [],
   "source": [
    "def clean_data(_data : pd.DataFrame, keep_volume=False, compute_target=False, look_forward=15, upper_factor=3, lower_factor=3):\n",
    "    data = _data.copy()\n",
    "    data.columns = data.columns.str.lower()\n",
    "\n",
    "    columns = ['atr', 'returns']\n",
    "\n",
    "    data['_atr'] = ta.atr(data['high'], data['low'], data['close'], length=5)\n",
    "    rolling_mean = data['_atr'].rolling(window=5).mean()\n",
    "    rolling_std = data['_atr'].rolling(window=5).std()\n",
    "    data.loc[:, 'atr'] = (data['_atr'] - rolling_mean) / rolling_std\n",
    "\n",
    "    data.loc[:, '_returns'] = data['close'].pct_change(fill_method=None).fillna(0)\n",
    "    rolling_mean_return = data['_returns'].rolling(window=5).mean()\n",
    "    rolling_std_return = data['_returns'].rolling(window=5).std()\n",
    "    data.loc[:, 'returns'] = (data['_returns'] - rolling_mean_return) / rolling_std_return\n",
    "\n",
    "    if keep_volume:\n",
    "        data.loc[:, 'volume_change'] = data['volume'].pct_change(fill_method=None)\n",
    "        columns.append('volume_change')\n",
    "\n",
    "    data = data.dropna()\n",
    "\n",
    "    if compute_target:\n",
    "        columns.append('target')\n",
    "        labels = []\n",
    "    \n",
    "        for i in range(len(data)):\n",
    "            price = data['close'].iloc[i]\n",
    "            _atr = data['_atr'].iloc[i]\n",
    "            upper_barrier = price + (_atr * upper_factor)\n",
    "            lower_barrier = price - (_atr * lower_factor)\n",
    "            \n",
    "            forward_prices = data['close'].iloc[i+1:i+1+look_forward]\n",
    "            \n",
    "            upper_cross = forward_prices[forward_prices >= upper_barrier]\n",
    "            lower_cross = forward_prices[forward_prices <= lower_barrier]\n",
    "            \n",
    "            if not upper_cross.empty and not lower_cross.empty:\n",
    "                label = 1 if upper_cross.index[0] < lower_cross.index[0] else -1\n",
    "            elif not upper_cross.empty:\n",
    "                label = 1\n",
    "            elif not lower_cross.empty:\n",
    "                label = -1\n",
    "            else:\n",
    "                label = 0  # No barrier touched\n",
    "            \n",
    "            labels.append(label)\n",
    "\n",
    "        data['target'] = labels\n",
    "\n",
    "\n",
    "    data = data.dropna()\n",
    "    data = data[data.index.isin(full_daterange)]\n",
    "        \n",
    "\n",
    "    return data[columns]\n",
    "\n",
    "clean_df_es = clean_data(df_es, keep_volume=False, compute_target=True)\n",
    "clean_df_vix = clean_data(df_vix)\n",
    "clean_df_dxy = clean_data(df_dxy)\n",
    "\n",
    "full_df = clean_df_es.join([clean_df_dxy.add_prefix('dxy_'), clean_df_vix.add_prefix('vix_')], how='inner')"
   ]
  },
  {
   "cell_type": "code",
   "execution_count": 19,
   "metadata": {},
   "outputs": [
    {
     "data": {
      "text/plain": [
       "Index(['atr', 'returns', 'target', 'dxy_atr', 'dxy_returns', 'vix_atr',\n",
       "       'vix_returns'],\n",
       "      dtype='object')"
      ]
     },
     "execution_count": 19,
     "metadata": {},
     "output_type": "execute_result"
    }
   ],
   "source": [
    "full_df.columns"
   ]
  },
  {
   "cell_type": "code",
   "execution_count": 38,
   "metadata": {},
   "outputs": [
    {
     "data": {
      "text/plain": [
       "<Axes: xlabel='Date'>"
      ]
     },
     "execution_count": 38,
     "metadata": {},
     "output_type": "execute_result"
    },
    {
     "data": {
      "image/png": "[encoded data removed]",
      "text/plain": [
       "<Figure size 640x480 with 1 Axes>"
      ]
     },
     "metadata": {},
     "output_type": "display_data"
    }
   ],
   "source": [
    "full_df.dxy_returns[-50:-45].plot()\n"
   ]
  },
  {
   "cell_type": "code",
   "execution_count": null,
   "metadata": {},
   "outputs": [],
   "source": []
  },
  {
   "cell_type": "code",
   "execution_count": 21,
   "metadata": {},
   "outputs": [],
   "source": [
    "# from sklearn.cluster import KMeans\n",
    "\n",
    "# np.random.seed(0)\n",
    "\n",
    "# n_cluster = 24 \n",
    "# kmeans = KMeans(n_clusters=n_cluster)\n",
    "\n",
    "\n",
    "# X = full_df.drop('target', axis=1)\n",
    "\n",
    "# split_index = round(len(X) * .7)\n",
    "# X_train, X_test = X[:split_index], X[split_index:]\n",
    "\n",
    "\n",
    "# # Fitting the model with the data\n",
    "# kmeans.fit(X_train)\n",
    "\n",
    "# # Predicting the cluster labels for the X=\n",
    "# labels = kmeans.predict(X)\n",
    "# full_df['labels'] = labels"
   ]
  },
  {
   "cell_type": "code",
   "execution_count": 22,
   "metadata": {},
   "outputs": [],
   "source": [
    "# import quantstats as qt\n",
    "\n",
    "# for label in range(n_cluster):\n",
    "#     signal = full_df['labels'] == label\n",
    "#     signal = signal.astype(int)\n",
    "    \n",
    "#     _ret = signal * full_df['returns'].shift(-1)\n",
    "#     plt.plot(np.cumsum(_ret), label=label)\n",
    "\n",
    "# plt.axvline(x=X.index[split_index], color='r', linestyle='--', label='70% Data')\n",
    "\n",
    "# plt.legend()"
   ]
  }
 ],
 "metadata": {
  "kernelspec": {
   "display_name": "venv",
   "language": "python",
   "name": "python3"
  },
  "language_info": {
   "codemirror_mode": {
    "name": "ipython",
    "version": 3
   },
   "file_extension": ".py",
   "mimetype": "text/x-python",
   "name": "python",
   "nbconvert_exporter": "python",
   "pygments_lexer": "ipython3",
   "version": "3.12.0"
  }
 },
 "nbformat": 4,
 "nbformat_minor": 2
}
