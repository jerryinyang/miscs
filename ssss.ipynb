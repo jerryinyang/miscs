{
 "cells": [
  {
   "cell_type": "markdown",
   "metadata": {},
   "source": [
    "# TARGET DETERMINATION FOR PIP MINER MODEL\n",
    "\n",
    "This experiment is an extension of the `parameters` experiment. Given the range of with stable Martin Ratio:\n",
    "- what cluster identity should be seleted? How can we combine them into a strategy?\n",
    "- what could be the exit strategy for the strategy?"
   ]
  },
  {
   "cell_type": "code",
   "execution_count": 14,
   "metadata": {},
   "outputs": [],
   "source": [
    "# Import Necessary Libraries, Define the parameters\n",
    "import logging\n",
    "from pathlib import Path\n",
    "import matplotlib.pyplot as plt\n",
    "import numpy as np\n",
    "import pandas as pd\n",
    "import pandas_ta as ta  # noqa\n",
    "import plotly.graph_objects as go  # noqa\n",
    "import quantstats as qt\n",
    "import seaborn as sns\n",
    "from quantminer import Miner\n",
    "\n",
    "logger = logging.getLogger('optuna')\n",
    "logger.setLevel(logging.WARNING)\n",
    "\n",
    "data_dir = Path.cwd().parent / 'data'\n"
   ]
  },
  {
   "cell_type": "markdown",
   "metadata": {},
   "source": [
    "### STEP 0 : DATA PREPARATION AND MODEL TRAINING\n",
    "- Asset : EURUSD, 1-hour\n",
    "- Parameter\n",
    "  - n_pivots : 3; 4\n",
    "  - n_clusters : 16; 15 \n",
    "  - n_lookback : 8; 14\n",
    "  - hold_period : 2, 3"
   ]
  },
  {
   "cell_type": "code",
   "execution_count": 15,
   "metadata": {},
   "outputs": [],
   "source": [
    "# Read Price Data\n",
    "data_path = data_dir / 'eur_h1.parquet'\n",
    "raw_data = pd.read_parquet(data_path)\n",
    "\n",
    "# Clean the data\n",
    "data = raw_data.copy()\n",
    "data = data.dropna()\n",
    "\n",
    "# Feature Engineering\n",
    "data['returns'] = data['close'].diff().fillna(0)\n",
    "data['returns+1'] = data['returns'].shift(-1)\n",
    "\n",
    "# Prepare the training data\n",
    "train_daterange = pd.date_range('2010-01-01', '2021-12-31', freq='1h')\n",
    "train_df = data[data.index.isin(train_daterange)]\n",
    "train_data = np.array(train_df['close'])"
   ]
  },
  {
   "cell_type": "code",
   "execution_count": 16,
   "metadata": {},
   "outputs": [
    {
     "data": {
      "text/plain": [
       "11.722329145998637"
      ]
     },
     "execution_count": 16,
     "metadata": {},
     "output_type": "execute_result"
    }
   ],
   "source": [
    "# Parameters\n",
    "n_pivots=3\n",
    "n_clusters = 24\n",
    "n_lookback=15\n",
    "hold_period=3\n",
    "\n",
    "miner = Miner(\n",
    "    n_pivots=n_pivots,\n",
    "    n_clusters=n_clusters,\n",
    "    n_lookback=n_lookback,\n",
    "    hold_period=hold_period,\n",
    "    model_type='sequential'\n",
    ")\n",
    "\n",
    "# Fit the model\n",
    "miner.fit(train_data)"
   ]
  },
  {
   "cell_type": "code",
   "execution_count": 17,
   "metadata": {},
   "outputs": [],
   "source": [
    "# Create a feature for the predicted labels\n",
    "data['cluster_labels'] = miner.transform(data['close']).astype(int)\n",
    "train_df = data[data.index.isin(train_daterange)]"
   ]
  },
  {
   "cell_type": "markdown",
   "metadata": {},
   "source": [
    "### EXPERIMENT ONE : STRATEGY SELECTION\n",
    "For this experiment, we would select the clusters that beat a benchmark (Buy-and-Hold)\n",
    "- Profit Factor : 1\n",
    "- Sharpe ratio : \n",
    "- Ulcer Performance Index : From base data\n",
    "- Average Drawdown : From base data\n",
    "\n",
    "#### PROCEDURE\n",
    "1. Compute and store the returns array and martin ratio for each label/cluster, that meet the requirement (beat the benchmark; the Buy-Hold returns). Map each return to the label and direction.\n",
    "2. Select the best label with by Martin ratio.\n",
    "3. Compute the drawdown correlation between the returns from best label and other labels/returns. Select and store returns from correlation below a threshold value (default = .4)\n",
    "4. Combine the returns based:\n",
    "  - STRATEGY 1 : based on precendence, in order of descending martin ratio\n",
    "  - STRATEGY 2 : concurrent returns are allowed\n",
    "\n",
    "5. Test strategies on test_data"
   ]
  }
 ],
 "metadata": {
  "kernelspec": {
   "display_name": "venv",
   "language": "python",
   "name": "python3"
  },
  "language_info": {
   "codemirror_mode": {
    "name": "ipython",
    "version": 3
   },
   "file_extension": ".py",
   "mimetype": "text/x-python",
   "name": "python",
   "nbconvert_exporter": "python",
   "pygments_lexer": "ipython3",
   "version": "3.10.9"
  }
 },
 "nbformat": 4,
 "nbformat_minor": 2
}
