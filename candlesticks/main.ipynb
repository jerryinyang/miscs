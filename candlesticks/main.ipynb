{
 "cells": [
  {
   "cell_type": "markdown",
   "metadata": {},
   "source": [
    "- Define variables - target candlestick patterns\n",
    "- Fetch, clean and prepare price data (SPY 1-minute data) for at least 20 years\n",
    "- Calculate features - EMA\n",
    "- Label data - target entry days and their target prices\n",
    "- Plot the selected data"
   ]
  },
  {
   "cell_type": "code",
   "execution_count": null,
   "metadata": {},
   "outputs": [],
   "source": []
  }
 ],
 "metadata": {
  "language_info": {
   "name": "python"
  }
 },
 "nbformat": 4,
 "nbformat_minor": 2
}
