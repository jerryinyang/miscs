{
 "cells": [
  {
   "cell_type": "markdown",
   "metadata": {},
   "source": [
    "### TARGET DETERMINATION : METHOD ONE\n",
    "\n",
    "For this experiment, we would try to determine the distribution of price displacement, relative to a multiple of the current state, over a period of time. \n",
    "The current state can be define by any parameter. We would be using the Average True Range. The data we would use for this experiment would be AAPL Hourly Data from 2010 - 2023"
   ]
  },
  {
   "cell_type": "code",
   "execution_count": null,
   "metadata": {},
   "outputs": [],
   "source": [
    "# Import the data"
   ]
  }
 ],
 "metadata": {
  "language_info": {
   "name": "python"
  }
 },
 "nbformat": 4,
 "nbformat_minor": 2
}
