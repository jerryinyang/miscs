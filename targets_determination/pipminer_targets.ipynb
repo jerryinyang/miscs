{
 "cells": [
  {
   "cell_type": "markdown",
   "metadata": {},
   "source": [
    "# TARGET DETERMINATION FOR PIP MINER MODEL\n",
    "\n",
    "In this experiment, we would explore different exit methods for the signal generated from the Miner class."
   ]
  },
  {
   "cell_type": "code",
   "execution_count": 34,
   "metadata": {},
   "outputs": [],
   "source": [
    "# Import Necessary Libraries, Define the parameters\n",
    "from pathlib import Path\n",
    "\n",
    "import matplotlib.pyplot as plt\n",
    "import numpy as np\n",
    "import pandas as pd\n",
    "import plotly.graph_objects as go\n",
    "import quantstats as qt\n",
    "from plotly.offline import plot as plot_offline\n",
    "from quantminer import Miner\n",
    "\n",
    "data_dir = Path.cwd().parent / 'data'\n",
    "data_path = data_dir / 'eur_h1.parquet'"
   ]
  },
  {
   "cell_type": "markdown",
   "metadata": {},
   "source": [
    "### STEP 0 : DATA PREPARATION AND MODEL TRAINING\n",
    "- Asset : AAPL, 1-hour"
   ]
  },
  {
   "cell_type": "code",
   "execution_count": 35,
   "metadata": {},
   "outputs": [],
   "source": [
    "# Read Price Data\n",
    "raw_data = pd.read_parquet(data_path)\n",
    "\n",
    "# Clean the data\n",
    "data = raw_data.copy()\n",
    "data = data.dropna()\n",
    "\n",
    "# Feature Engineering\n",
    "data['returns'] = data['close'].diff().fillna(0)\n",
    "data['returns+1'] = data['returns'].shift(-1)"
   ]
  },
  {
   "cell_type": "code",
   "execution_count": 36,
   "metadata": {},
   "outputs": [],
   "source": [
    "# Initialize the model parameters and the model instance\n",
    "n_lookback = 24\n",
    "n_pivots = 5\n",
    "hold_period = 6\n",
    "n_clusters = 5\n",
    "\n",
    "miner = Miner(\n",
    "    n_lookback=n_lookback,\n",
    "    n_pivots=n_pivots,\n",
    "    hold_period=hold_period,\n",
    "    n_clusters = n_clusters,\n",
    ")"
   ]
  },
  {
   "cell_type": "code",
   "execution_count": 37,
   "metadata": {},
   "outputs": [
    {
     "name": "stdout",
     "output_type": "stream",
     "text": [
      "Clustering data...\n",
      "Clustering complete\n",
      "Training Complete :  12.956428146666903\n"
     ]
    }
   ],
   "source": [
    "# Prepare the training data; Fit the model\n",
    "train_daterange_start = 2010\n",
    "train_daterange_end = 2021\n",
    "\n",
    "train_data = data[(data.index.year >= train_daterange_start) & (data.index.year <= train_daterange_end)]['close']\n",
    "train_data = np.array(train_data)\n",
    "\n",
    "# Fit the model\n",
    "miner.fit(train_data)"
   ]
  },
  {
   "cell_type": "code",
   "execution_count": 38,
   "metadata": {},
   "outputs": [],
   "source": [
    "# Create a feature for the predicted labels\n",
    "data['cluster_labels'] = miner.transform(data['close']).astype(int)\n",
    "# x = miner.apply_holding_period(data['cluster_labels'])"
   ]
  },
  {
   "cell_type": "code",
   "execution_count": 39,
   "metadata": {},
   "outputs": [
    {
     "data": {
      "text/plain": [
       "'my_plot.html'"
      ]
     },
     "execution_count": 39,
     "metadata": {},
     "output_type": "execute_result"
    }
   ],
   "source": [
    "# Fixed Hold-Period, Different Clusters\n",
    "fig_0 = go.Figure()\n",
    "for _ in range(n_clusters):\n",
    "    for hp in range(1, 24):\n",
    "        _signals = miner.apply_holding_period(data['cluster_labels'], hold_period=hp, selected_labels=[_])\n",
    "        _signals = np.where(_signals != -1, 1, 0)\n",
    "        _ret = data['returns'] * _signals\n",
    "\n",
    "        _cumsum = np.cumsum(_ret)\n",
    "        fig_0.add_trace(go.Scatter(x=_cumsum.index, y=_cumsum, mode='lines', name=f'L-{_}; HP-{hp}'))\n",
    "\n",
    "fig_0.update_layout(title='Cluster Returns Over Time',\n",
    "                  xaxis_title='Time',\n",
    "                  yaxis_title='Cumulative Returns',\n",
    "                  legend_title='Clusters',\n",
    "                  hovermode='closest',\n",
    "                  )\n",
    "\n",
    "# fig_0.show(renderer='browser')\n",
    "plot_offline(fig_0, filename='my_plot.html')"
   ]
  },
  {
   "cell_type": "code",
   "execution_count": 40,
   "metadata": {},
   "outputs": [],
   "source": [
    "# train_data = data[(data.index.year >= train_daterange_start) & (data.index.year <= train_daterange_end)]\n",
    "# test_data = data[(data.index.year > train_daterange_end)]"
   ]
  },
  {
   "cell_type": "code",
   "execution_count": 41,
   "metadata": {},
   "outputs": [],
   "source": [
    "# fig = go.Figure()\n",
    "\n",
    "# for cluster_index in range(n_clusters):\n",
    "#     cluster_backtest = train_data.loc[train_data['cluster_labels'] == cluster_index, 'returns+1']\n",
    "#     cumsum_backtest = np.cumsum(cluster_backtest)\n",
    "#     fig.add_trace(go.Scatter(x=cumsum_backtest.index, y=cumsum_backtest, mode='lines', name=f'Cluster {cluster_index}'))\n",
    "\n",
    "# fig.update_layout(title='Cluster Returns Over Time',\n",
    "#                   xaxis_title='Time',\n",
    "#                   yaxis_title='Cumulative Returns',\n",
    "#                   legend_title='Clusters',\n",
    "#                   hovermode='closest',\n",
    "#                   height=600)\n",
    "\n",
    "# fig.show()"
   ]
  },
  {
   "cell_type": "code",
   "execution_count": 42,
   "metadata": {},
   "outputs": [],
   "source": [
    "# for _ in range(-1, n_clusters):\n",
    "#     backtest_insample = train_data.loc[train_data['cluster_labels'] == _, 'returns+1']\n",
    "#     backtest_outsample = test_data.loc[test_data['cluster_labels'] == _, 'returns+1']\n",
    "\n",
    "#     print(F\"\\n\\n----- CLUSTER {_} -----\")\n",
    "#     print(f\"IN-SAMPLE :\\n\\tLONG :{qt.stats.sharpe(backtest_insample)}\\n\\tSHORT :{qt.stats.sharpe(backtest_insample * -1)}\")\n",
    "#     print(f\"OUT-OF-SAMPLE :\\n\\tLONG :{qt.stats.sharpe(backtest_outsample)}\\n\\tSHORT :{qt.stats.sharpe(backtest_outsample * -1)}\")\n"
   ]
  }
 ],
 "metadata": {
  "kernelspec": {
   "display_name": "venv",
   "language": "python",
   "name": "python3"
  },
  "language_info": {
   "codemirror_mode": {
    "name": "ipython",
    "version": 3
   },
   "file_extension": ".py",
   "mimetype": "text/x-python",
   "name": "python",
   "nbconvert_exporter": "python",
   "pygments_lexer": "ipython3",
   "version": "3.10.9"
  }
 },
 "nbformat": 4,
 "nbformat_minor": 2
}
