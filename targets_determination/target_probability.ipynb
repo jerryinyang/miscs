{
 "cells": [
  {
   "cell_type": "markdown",
   "metadata": {},
   "source": [
    "## TARGET PROBABILITY\n",
    "In this experiment, we would attempt to calculate the probability of a price target getting reached, within a period of time.\n",
    "\n",
    "### PARAMETERS\n",
    "- Forecast time range - `t_lback`\n",
    "- Forecast time range = `t_delta`\n",
    "\n",
    "#### PROCEDURE\n",
    "\n",
    "###### Feature Engineering\n",
    "- Calculate the ATR with a period of `t_lback`\n",
    "- Compute the closing price returns; price change from the previous data point\n",
    "- Compute the maximum and minimum price displacement from the current price.\n",
    "- Compute the ratios of the maximum/minimum price displacement\n",
    "\n",
    "###### Probability Analysis\n",
    "- Compute the distribution of assets return, over t_delta bars. Derive the standard deviation of the returns, and the proportion of data within 1, 2, and 3 STD\n",
    "- Compute the probability of a target being reached; the probability of selecting an asset return equal to or greater than the target"
   ]
  },
  {
   "cell_type": "code",
   "execution_count": 1,
   "metadata": {},
   "outputs": [],
   "source": [
    "# Import the data\n",
    "import talib as tal\n",
    "import pandas as pd\n",
    "from pathlib import Path\n",
    "import pandas_ta as ta\n",
    "import quantstats as qt #noqa\n",
    "import numpy as np\n",
    "import seaborn as sns #noqa\n",
    "import matplotlib.pyplot as plt\n",
    "import numpy as np\n",
    "from scipy.stats import gaussian_kde\n",
    "from scipy.integrate import quad\n",
    "\n",
    "# Parameters\n",
    "t_lback = 14\n",
    "t_delta = 14\n",
    "p_value = 0.05\n",
    "\n",
    "# Data Paths\n",
    "aapl_path = Path.cwd().parent / 'data/aapl_h1.csv'\n",
    "btc_path = Path.cwd().parent / 'data/btcusdt_h1.parquet'\n",
    "gold_path = Path.cwd().parent / 'data/gold_h1.parquet'"
   ]
  },
  {
   "cell_type": "code",
   "execution_count": 2,
   "metadata": {},
   "outputs": [],
   "source": [
    "# Functions\n",
    "def get_distribution(data, title, target_multiplier=1):\n",
    "\n",
    "    data = np.abs(data)\n",
    "\n",
    "    mean = np.mean(data)\n",
    "    std = np.std(data)\n",
    "    median = np.median(data)\n",
    "    \n",
    "    print(\"Mean : \", mean)\n",
    "    print(\"Standard Deviation : \", std)\n",
    "\n",
    "    print(f\"Probability of reaching a target of the mean is : {target_probability_kde(data, mean * target_multiplier)}\")\n",
    "    print(f\"Probability of reaching a target of 1 STD is : {target_probability_kde(data, std * target_multiplier)}\")\n",
    "    \n",
    "   # Adjust the plot size\n",
    "    plt.figure(figsize=(4, 3))  # You can adjust the figsize values as per your needs\n",
    "    \n",
    "    # Plot the distribution\n",
    "    plt.hist(data, bins=30, color='lightblue', edgecolor='black') \n",
    "\n",
    "    # Add vertical lines for mean and median\n",
    "    plt.axvline(x=mean, color='blue', linestyle='--', label='Mean')\n",
    "    plt.axvline(x=median, color='red', linestyle='--', label='Median')\n",
    "\n",
    "    # Customization\n",
    "    plt.title(f\"Distribution of {title}\")\n",
    "    plt.xlabel(\"Value\")\n",
    "    plt.ylabel(\"Frequency\")\n",
    "    plt.legend()  # Show the labels\n",
    "\n",
    "    plt.show()\n",
    "\n",
    "    plt.show()\n",
    "\n",
    "def target_probability(data, test_value):\n",
    "    \"\"\"\n",
    "    Calculates the probability of the target getting reached.\n",
    "    \n",
    "    Args:\n",
    "        data (array-like): An array containing the distribution of values.\n",
    "        test_value: The value to test against.\n",
    "        \n",
    "    Returns:\n",
    "        float: The probability of selecting a number below the test value.\n",
    "    \"\"\"\n",
    "    \n",
    "    # Find the number of data points less than or equal to the test value\n",
    "    count = np.sum(data >= test_value)\n",
    "    \n",
    "    # Calculate the probability\n",
    "    probability = count / len(data)\n",
    "    \n",
    "    return round(probability, 2)\n",
    "\n",
    "def target_probability_kde(data, test_value):\n",
    "    \"\"\"\n",
    "    Calculates the probability of selecting a number greater than or equal to a test value\n",
    "    using Kernel Density Estimation (KDE), with integration bounds adjusted for robustness.\n",
    "    \n",
    "    Args:\n",
    "        data (array-like): An array containing the distribution of values.\n",
    "        test_value (float): The value to test against.\n",
    "        \n",
    "    Returns:\n",
    "        float: The probability of selecting a number above or equal to the test value.\n",
    "    \"\"\"\n",
    "    # Define KDE\n",
    "    kde = gaussian_kde(data)\n",
    "    \n",
    "    # Calculate standard deviation for the bounds\n",
    "    std = np.std(data)\n",
    "    upper_bound = max(data) + (3 * std)\n",
    "    \n",
    "    # Integration from test_value to upper bound for the probability\n",
    "    probability, _ = quad(kde, test_value, upper_bound)\n",
    "    \n",
    "    return round(probability, 2)\n",
    "\n",
    "\n",
    "# Function to compute KPI \n",
    "def compute_kpis(returns):\n",
    "    returns = pd.Series(returns)\n",
    "    print(\n",
    "            f'Profit Ratio: {qt.stats.profit_ratio(returns)}\\n',\n",
    "            f'Win Rate: {qt.stats.win_rate(returns)}\\n'\n",
    "            f'Sharpe : {qt.stats.sharpe(returns)}\\n', \n",
    "            f'Profit Factor : {qt.stats.profit_factor(returns)}\\n',\n",
    "            f'Martin Ratio : {qt.stats.ulcer_performance_index(returns)}')"
   ]
  },
  {
   "cell_type": "code",
   "execution_count": 3,
   "metadata": {},
   "outputs": [
    {
     "data": {
      "text/html": [
       "<div>\n",
       "<style scoped>\n",
       "    .dataframe tbody tr th:only-of-type {\n",
       "        vertical-align: middle;\n",
       "    }\n",
       "\n",
       "    .dataframe tbody tr th {\n",
       "        vertical-align: top;\n",
       "    }\n",
       "\n",
       "    .dataframe thead th {\n",
       "        text-align: right;\n",
       "    }\n",
       "</style>\n",
       "<table border=\"1\" class=\"dataframe\">\n",
       "  <thead>\n",
       "    <tr style=\"text-align: right;\">\n",
       "      <th></th>\n",
       "      <th>datetime</th>\n",
       "      <th>open</th>\n",
       "      <th>high</th>\n",
       "      <th>low</th>\n",
       "      <th>close</th>\n",
       "      <th>volume</th>\n",
       "    </tr>\n",
       "  </thead>\n",
       "  <tbody>\n",
       "    <tr>\n",
       "      <th>0</th>\n",
       "      <td>1998-01-02 16:00:00</td>\n",
       "      <td>0.12</td>\n",
       "      <td>0.12</td>\n",
       "      <td>0.12</td>\n",
       "      <td>0.12</td>\n",
       "      <td>14512400</td>\n",
       "    </tr>\n",
       "    <tr>\n",
       "      <th>1</th>\n",
       "      <td>1998-01-02 17:00:00</td>\n",
       "      <td>0.12</td>\n",
       "      <td>0.13</td>\n",
       "      <td>0.12</td>\n",
       "      <td>0.12</td>\n",
       "      <td>52987312</td>\n",
       "    </tr>\n",
       "  </tbody>\n",
       "</table>\n",
       "</div>"
      ],
      "text/plain": [
       "             datetime  open  high   low  close    volume\n",
       "0 1998-01-02 16:00:00  0.12  0.12  0.12   0.12  14512400\n",
       "1 1998-01-02 17:00:00  0.12  0.13  0.12   0.12  52987312"
      ]
     },
     "metadata": {},
     "output_type": "display_data"
    },
    {
     "data": {
      "text/html": [
       "<div>\n",
       "<style scoped>\n",
       "    .dataframe tbody tr th:only-of-type {\n",
       "        vertical-align: middle;\n",
       "    }\n",
       "\n",
       "    .dataframe tbody tr th {\n",
       "        vertical-align: top;\n",
       "    }\n",
       "\n",
       "    .dataframe thead th {\n",
       "        text-align: right;\n",
       "    }\n",
       "</style>\n",
       "<table border=\"1\" class=\"dataframe\">\n",
       "  <thead>\n",
       "    <tr style=\"text-align: right;\">\n",
       "      <th></th>\n",
       "      <th>datetime</th>\n",
       "      <th>open</th>\n",
       "      <th>high</th>\n",
       "      <th>low</th>\n",
       "      <th>close</th>\n",
       "      <th>volume</th>\n",
       "    </tr>\n",
       "  </thead>\n",
       "  <tbody>\n",
       "    <tr>\n",
       "      <th>46340</th>\n",
       "      <td>2023-12-28 22:00:00</td>\n",
       "      <td>193.88</td>\n",
       "      <td>194.09</td>\n",
       "      <td>193.87</td>\n",
       "      <td>193.97</td>\n",
       "      <td>1881975</td>\n",
       "    </tr>\n",
       "    <tr>\n",
       "      <th>46341</th>\n",
       "      <td>2023-12-28 23:00:00</td>\n",
       "      <td>193.97</td>\n",
       "      <td>193.97</td>\n",
       "      <td>193.17</td>\n",
       "      <td>193.59</td>\n",
       "      <td>5435335</td>\n",
       "    </tr>\n",
       "  </tbody>\n",
       "</table>\n",
       "</div>"
      ],
      "text/plain": [
       "                 datetime    open    high     low   close   volume\n",
       "46340 2023-12-28 22:00:00  193.88  194.09  193.87  193.97  1881975\n",
       "46341 2023-12-28 23:00:00  193.97  193.97  193.17  193.59  5435335"
      ]
     },
     "metadata": {},
     "output_type": "display_data"
    }
   ],
   "source": [
    "# Read Data\n",
    "# raw_data = pd.read_parquet(gold_path)\n",
    "# raw_data.reset_index(names=['datetime'], inplace=True)\n",
    "\n",
    "raw_data = pd.read_csv(aapl_path)\n",
    "raw_data['datetime'] = pd.to_datetime(raw_data['datetime'])\n",
    "\n",
    "display(raw_data.head(2))\n",
    "display(raw_data.tail(2))"
   ]
  },
  {
   "cell_type": "code",
   "execution_count": 4,
   "metadata": {},
   "outputs": [
    {
     "data": {
      "text/plain": [
       "(25218, 14)"
      ]
     },
     "metadata": {},
     "output_type": "display_data"
    },
    {
     "data": {
      "text/html": [
       "<div>\n",
       "<style scoped>\n",
       "    .dataframe tbody tr th:only-of-type {\n",
       "        vertical-align: middle;\n",
       "    }\n",
       "\n",
       "    .dataframe tbody tr th {\n",
       "        vertical-align: top;\n",
       "    }\n",
       "\n",
       "    .dataframe thead th {\n",
       "        text-align: right;\n",
       "    }\n",
       "</style>\n",
       "<table border=\"1\" class=\"dataframe\">\n",
       "  <thead>\n",
       "    <tr style=\"text-align: right;\">\n",
       "      <th></th>\n",
       "      <th>datetime</th>\n",
       "      <th>open</th>\n",
       "      <th>high</th>\n",
       "      <th>low</th>\n",
       "      <th>close</th>\n",
       "      <th>volume</th>\n",
       "      <th>atr</th>\n",
       "      <th>next_returns</th>\n",
       "      <th>returns_perc</th>\n",
       "      <th>ema</th>\n",
       "      <th>max_runup</th>\n",
       "      <th>max_rundown</th>\n",
       "      <th>runup_atr_ratio</th>\n",
       "      <th>rundown_atr_ratio</th>\n",
       "    </tr>\n",
       "  </thead>\n",
       "  <tbody>\n",
       "    <tr>\n",
       "      <th>0</th>\n",
       "      <td>2010-01-06 21:00:00</td>\n",
       "      <td>7.55</td>\n",
       "      <td>7.61</td>\n",
       "      <td>7.54</td>\n",
       "      <td>7.57</td>\n",
       "      <td>19858902</td>\n",
       "      <td>0.044454</td>\n",
       "      <td>-0.04</td>\n",
       "      <td>0.002649</td>\n",
       "      <td>7.634500</td>\n",
       "      <td>0.03</td>\n",
       "      <td>-0.05</td>\n",
       "      <td>0.674857</td>\n",
       "      <td>-1.124762</td>\n",
       "    </tr>\n",
       "    <tr>\n",
       "      <th>1</th>\n",
       "      <td>2010-01-06 22:00:00</td>\n",
       "      <td>7.57</td>\n",
       "      <td>7.58</td>\n",
       "      <td>7.52</td>\n",
       "      <td>7.53</td>\n",
       "      <td>23676842</td>\n",
       "      <td>0.045564</td>\n",
       "      <td>-0.03</td>\n",
       "      <td>-0.005284</td>\n",
       "      <td>7.624548</td>\n",
       "      <td>0.06</td>\n",
       "      <td>-0.02</td>\n",
       "      <td>1.316821</td>\n",
       "      <td>-0.438940</td>\n",
       "    </tr>\n",
       "    <tr>\n",
       "      <th>2</th>\n",
       "      <td>2010-01-07 16:00:00</td>\n",
       "      <td>7.56</td>\n",
       "      <td>7.57</td>\n",
       "      <td>7.48</td>\n",
       "      <td>7.50</td>\n",
       "      <td>25827886</td>\n",
       "      <td>0.048738</td>\n",
       "      <td>0.03</td>\n",
       "      <td>-0.003984</td>\n",
       "      <td>7.612686</td>\n",
       "      <td>0.03</td>\n",
       "      <td>-0.05</td>\n",
       "      <td>0.615533</td>\n",
       "      <td>-1.025888</td>\n",
       "    </tr>\n",
       "  </tbody>\n",
       "</table>\n",
       "</div>"
      ],
      "text/plain": [
       "             datetime  open  high   low  close    volume       atr  \\\n",
       "0 2010-01-06 21:00:00  7.55  7.61  7.54   7.57  19858902  0.044454   \n",
       "1 2010-01-06 22:00:00  7.57  7.58  7.52   7.53  23676842  0.045564   \n",
       "2 2010-01-07 16:00:00  7.56  7.57  7.48   7.50  25827886  0.048738   \n",
       "\n",
       "   next_returns  returns_perc       ema  max_runup  max_rundown  \\\n",
       "0         -0.04      0.002649  7.634500       0.03        -0.05   \n",
       "1         -0.03     -0.005284  7.624548       0.06        -0.02   \n",
       "2          0.03     -0.003984  7.612686       0.03        -0.05   \n",
       "\n",
       "   runup_atr_ratio  rundown_atr_ratio  \n",
       "0         0.674857          -1.124762  \n",
       "1         1.316821          -0.438940  \n",
       "2         0.615533          -1.025888  "
      ]
     },
     "execution_count": 4,
     "metadata": {},
     "output_type": "execute_result"
    }
   ],
   "source": [
    "# FEATURE ENGINEERING\n",
    "\n",
    "# Filter the date range\n",
    "data = raw_data[(raw_data['datetime'].dt.year >= 2010) & (raw_data['datetime'].dt.year <= 2023)]\n",
    "data = data.reset_index(drop=True)\n",
    "\n",
    "# Compute Returns\n",
    "returns = data['close'].diff().fillna(0)\n",
    "returns_perc = data['close'].pct_change(fill_method=None).fillna(0)\n",
    "\n",
    "# Handle Outlier in Returns : Replace with the mean\n",
    "mean_return = np.mean(returns)\n",
    "mean_return_perc = np.mean(returns_perc)\n",
    "\n",
    "returns.loc[returns.abs() > np.percentile(returns.abs(), 99.5)] = mean_return # Replace outliers: returns greater than 99th percentile\n",
    "returns_perc.loc[returns_perc.abs() > np.percentile(returns_perc.abs(), 99.5)] = mean_return_perc # Replace outliers: returns greater than 99th percentile\n",
    "\n",
    "# Feature Engineering\n",
    "data['atr'] = tal.ATR(\n",
    "    data['high'], \n",
    "    data['low'], \n",
    "    data['close'], \n",
    "    t_lback)\n",
    "data['next_returns'] = returns.shift(-1)\n",
    "data['returns_perc'] = returns_perc\n",
    "\n",
    "data['ema'] = ta.ema(data['close'].copy(deep=True), 20)\n",
    "\n",
    "\n",
    "data['max_runup'] = data['next_returns'].rolling(t_delta).apply(\n",
    "    lambda x : max(\n",
    "        np.cumsum(\n",
    "            np.pad(x, (1, 0), mode='constant', constant_values=0)))).shift(-t_delta) # Gets the max drawdown from the next [lookback] bars\n",
    "\n",
    "data['max_rundown'] = data['next_returns'].rolling(t_delta).apply(\n",
    "    lambda x : min(\n",
    "        np.cumsum(\n",
    "            np.pad(x, (1, 0), mode='constant', constant_values=0)))).shift(-t_delta) # Gets the max drawdown from the next [lookback] bars\n",
    "\n",
    "data['runup_atr_ratio'] = data['max_runup'] / data['atr']\n",
    "data['rundown_atr_ratio'] = data['max_rundown'] / data['atr']\n",
    "\n",
    "# Drop NaNs\n",
    "data = data.dropna(axis=0).reset_index(drop=True)\n",
    "\n",
    "full_data = data.copy()\n",
    "# data = data.drop(['open', 'high', 'low', 'volume', 'datetime'], axis=1)\n",
    "\n",
    "# Print Sample\n",
    "display(data.shape)\n",
    "data.head(3)\n"
   ]
  },
  {
   "cell_type": "markdown",
   "metadata": {},
   "source": [
    "#### DISTRIBUTIONS"
   ]
  },
  {
   "cell_type": "code",
   "execution_count": 5,
   "metadata": {},
   "outputs": [
    {
     "name": "stdout",
     "output_type": "stream",
     "text": [
      "Mean :  1.9514965308910752\n",
      "Standard Deviation :  2.127642144013627\n",
      "Probability of reaching a target of the mean is : 0.39\n",
      "Probability of reaching a target of 1 STD is : 0.36\n"
     ]
    },
    {
     "data": {
      "image/png": "[encoded data removed]",
      "text/plain": [
       "<Figure size 400x300 with 1 Axes>"
      ]
     },
     "metadata": {},
     "output_type": "display_data"
    },
    {
     "name": "stdout",
     "output_type": "stream",
     "text": [
      "Mean :  1.6753231541999025\n",
      "Standard Deviation :  1.9696238650322941\n",
      "Probability of reaching a target of the mean is : 0.37\n",
      "Probability of reaching a target of 1 STD is : 0.32\n"
     ]
    },
    {
     "data": {
      "image/png": "[encoded data removed]",
      "text/plain": [
       "<Figure size 400x300 with 1 Axes>"
      ]
     },
     "metadata": {},
     "output_type": "display_data"
    }
   ],
   "source": [
    "get_distribution(data['runup_atr_ratio'], f'{t_delta}-Period Maximum Runup')\n",
    "get_distribution(data['rundown_atr_ratio'], f'{t_delta}-Period Maximum Rundown')"
   ]
  },
  {
   "cell_type": "code",
   "execution_count": 6,
   "metadata": {},
   "outputs": [
    {
     "name": "stdout",
     "output_type": "stream",
     "text": [
      "Mean :  2.030564719729057\n",
      "Standard Deviation :  2.233227170389093\n",
      "Probability of reaching a target of the mean is : 0.6\n",
      "Probability of reaching a target of 1 STD is : 0.57\n"
     ]
    },
    {
     "data": {
      "image/png": "[encoded data removed]",
      "text/plain": [
       "<Figure size 400x300 with 1 Axes>"
      ]
     },
     "metadata": {},
     "output_type": "display_data"
    },
    {
     "name": "stdout",
     "output_type": "stream",
     "text": [
      "Mean :  1.6470833479129325\n",
      "Standard Deviation :  1.9857217049092446\n",
      "Probability of reaching a target of the mean is : 0.55\n",
      "Probability of reaching a target of 1 STD is : 0.51\n"
     ]
    },
    {
     "data": {
      "image/png": "[encoded data removed]",
      "text/plain": [
       "<Figure size 400x300 with 1 Axes>"
      ]
     },
     "metadata": {},
     "output_type": "display_data"
    }
   ],
   "source": [
    "get_distribution(data.loc[data['close'] > ta.ema (data.close, 200), 'runup_atr_ratio'], f'{t_delta}-Period Maximum Runup', .5)\n",
    "get_distribution(data.loc[data['close'] > ta.ema (data.close, 200), 'rundown_atr_ratio'], f'{t_delta}-Period Maximum Rundown', .5)"
   ]
  },
  {
   "cell_type": "markdown",
   "metadata": {},
   "source": [
    "##### CONCLUSION\n",
    "1. The distribution of aseet returns move above/below relative to the current ATR value :\n",
    "  - Mean Runup : 1.8 times\n",
    "  - Mean Rundown : -1.6 times\n",
    "The standard deiation for both distributions, however are significant, and larger than the mean, This implies that the variation within the distribution is wide.\n",
    "\n",
    "2. When a condition is applied (filtered by ema for example), similar mean values are gotten, and the level of variation is still high\n",
    "\n",
    "Due to the large variation in the data, teh probability density is also a bit messy. For the base case as well as with the conditions applied, the probability of gettign a return the same as the mean value is less than 40%.\n",
    "\n",
    "For a minimum of 70% certainity, the target atr multiple should be `.2`\n",
    "\n"
   ]
  },
  {
   "cell_type": "markdown",
   "metadata": {},
   "source": [
    "#### TEST:\n",
    "Using the calculated mean distribution of the `t_delta` returns, we would test its effectiveness as an exit strategy.\n",
    "- First, we would code the entry strategy; Buy engulfing pattern (high > high[1] and close < close[1]) when above the SMA 168\n",
    "- Next, we would compute the benchmark exit strategy : using a holding period of `t_delta`. The Profit Factor, Sharpe Ratio and Ulcer Performance Ratio would be calculated.\n",
    "- Finally, we would implement an exit of the mean (1.8) times the current ATR value as the exit price. Same KPIs would be computed"
   ]
  },
  {
   "cell_type": "code",
   "execution_count": 7,
   "metadata": {},
   "outputs": [],
   "source": [
    "# Entry Features and Conditions\n",
    "ema_filter = ta.sma(data['close'], 168)\n",
    "bull_engulfing = np.where((data['high'] > data['high'].shift(1)) &  (data['close'] < data['close'].shift(1)), 1, 0)\n",
    "bear_engulfing = np.where((data['low'] < data['low'].shift(1)) &  (data['close'] > data['close'].shift(1)), 1, 0)\n",
    "\n",
    "data['entry_signal'] = (data['close'] > ema_filter) & bull_engulfing "
   ]
  },
  {
   "cell_type": "code",
   "execution_count": 8,
   "metadata": {},
   "outputs": [],
   "source": [
    "# Initialize signal column to zeros\n",
    "data['signals_baseline'] = 0\n",
    "\n",
    "# Create a temporary extension of the condition to capture the next 5 rows for each condition met\n",
    "for i in range(1, t_delta + 1):\n",
    "    # Use `shift` to move the condition mask up by i positions, expanding the range where condition is considered True\n",
    "    data['signals_baseline'] |= data['entry_signal'].shift(i, fill_value=0)\n",
    "\n",
    "# Replace True/False with 1/0 in the 'signal' column\n",
    "data['signals_baseline'] = data['signals_baseline'].astype(int)"
   ]
  },
  {
   "cell_type": "code",
   "execution_count": 9,
   "metadata": {},
   "outputs": [
    {
     "name": "stdout",
     "output_type": "stream",
     "text": [
      "----- Baseline Performance : Holding Period Exit -----\n",
      "Profit Ratio: 0.7367719502693997\n",
      " Win Rate: 0.524168441749959\n",
      "Sharpe : 0.46885272337255607\n",
      " Profit Factor : 1.0939016042777794\n",
      " Martin Ratio : 43.83621745375225\n"
     ]
    }
   ],
   "source": [
    "print(\"----- Baseline Performance : Holding Period Exit -----\")\n",
    "baseline_returns = data.loc[data['signals_baseline'] == 1, 'returns_perc']\n",
    "compute_kpis(baseline_returns)\n",
    "# plt.plot(np.cumsum(baseline_returns))"
   ]
  },
  {
   "cell_type": "code",
   "execution_count": 10,
   "metadata": {},
   "outputs": [],
   "source": [
    "# Test 1 : Exit Strategy (with no stop loss)\n",
    "data['target_above'] = data['close'] + (data['atr'] * 1.8)\n",
    "data['target_below'] = data['close'] - (data['atr'] * 1.5) \n",
    "data['signals_1'] = 0\n",
    "\n",
    "# Initialize a flag to track if we are currently in an active signal phase\n",
    "in_signal = False\n",
    "current_target_above = 0\n",
    "current_target_below = 0\n",
    "\n",
    "# Iterate through the DataFrame rows\n",
    "for i in range(len(data)):\n",
    "    if in_signal:\n",
    "        # Checks if either target is met (We exit the signal)\n",
    "        if (data.loc[i, 'close'] >= current_target_above): # or (data.loc[i, 'close'] <= current_target_below):\n",
    "            in_signal = False # Reset the flag as target is met\n",
    "    else:\n",
    "        # Check for the start of a new signal\n",
    "        if data.loc[i, 'entry_signal'] == 1:\n",
    "            in_signal = True\n",
    "            current_target_above = data.loc[i, 'target_above']\n",
    "            current_target_below = data.loc[i, 'target_below']\n",
    "    \n",
    "    # If we're in an active signal phase, set 'signal' to 1\n",
    "    data.loc[i, 'signals_1'] = 1 if in_signal else 0\n"
   ]
  },
  {
   "cell_type": "code",
   "execution_count": 11,
   "metadata": {},
   "outputs": [
    {
     "name": "stdout",
     "output_type": "stream",
     "text": [
      "----- Backtest 1 Performance : Profit Target -----\n",
      "Profit Ratio: 0.7884264205415973\n",
      " Win Rate: 0.5105742894346909\n",
      "Sharpe : 0.17497708045744728\n",
      " Profit Factor : 1.0337295705900609\n",
      " Martin Ratio : 12.986171426251952\n"
     ]
    }
   ],
   "source": [
    "print(\"----- Backtest 1 Performance : Profit Target -----\")\n",
    "backtest_returns_1 = data.loc[data['signals_1'] == 1, 'returns_perc']\n",
    "compute_kpis(backtest_returns_1)\n",
    "# plt.plot(np.cumsum(backtest_returns_1))"
   ]
  },
  {
   "cell_type": "code",
   "execution_count": 12,
   "metadata": {},
   "outputs": [],
   "source": [
    "# Test 2 : Exit - Profit Target and Max Holding Period\n",
    "data['signals_2'] = 0\n",
    "\n",
    "# Initialize a flag to track if we are currently in an active signal phase\n",
    "in_signal = False\n",
    "current_target_above = 0\n",
    "rows_since_signal = 0\n",
    "\n",
    "# Iterate through the DataFrame rows\n",
    "for i in range(len(data)):\n",
    "    was_valid = in_signal and rows_since_signal < t_delta\n",
    "    # Check for the start of a new signal\n",
    "    if data.loc[i, 'entry_signal'] == 1:\n",
    "        rows_since_signal = -1\n",
    "        in_signal = True\n",
    "        current_target_above = data.loc[i, 'target_above']\n",
    "    \n",
    "    if in_signal:\n",
    "        # Checks if either target is met (We exit the signal)\n",
    "        if (data.loc[i, 'close'] >= current_target_above) or (rows_since_signal >= t_delta):\n",
    "            in_signal = False # Reset the flag as target is met\n",
    "            rows_since_signal = 0\n",
    "\n",
    "        else:\n",
    "            rows_since_signal += 1\n",
    "\n",
    "        if (rows_since_signal > 0) or was_valid:\n",
    "            # If we're in an active signal phase, set 'signal' to 1\n",
    "            data.loc[i, 'signals_2'] = 1\n",
    "        \n",
    "    "
   ]
  },
  {
   "cell_type": "code",
   "execution_count": 13,
   "metadata": {},
   "outputs": [
    {
     "name": "stdout",
     "output_type": "stream",
     "text": [
      "----- Backtest 2 Performance : Profit Target and Holding Period -----\n",
      "Profit Ratio: 0.7381977245458321\n",
      " Win Rate: 0.5217095015576324\n",
      "Sharpe : 0.3686514354593245\n",
      " Profit Factor : 1.0732707004968534\n",
      " Martin Ratio : 18.120750853786692\n"
     ]
    }
   ],
   "source": [
    "print(\"----- Backtest 2 Performance : Profit Target and Holding Period -----\")\n",
    "backtest_returns_2 = data.loc[data['signals_2'] == 1, 'returns_perc']\n",
    "compute_kpis(backtest_returns_2)\n",
    "# plt.plot(np.cumsum(backtest_returns_2))"
   ]
  },
  {
   "cell_type": "markdown",
   "metadata": {},
   "source": [
    "##### CONCLUSION:\n",
    "- The distribution of asset_return over `t_delta` bars, contain too much variability to have any significance as a profit target estimator. The low probabilities of reaching or surpassing a target equal to the mean asset price displacement over `t_delta` bars, iterates this point."
   ]
  }
 ],
 "metadata": {
  "kernelspec": {
   "display_name": "venv",
   "language": "python",
   "name": "python3"
  },
  "language_info": {
   "codemirror_mode": {
    "name": "ipython",
    "version": 3
   },
   "file_extension": ".py",
   "mimetype": "text/x-python",
   "name": "python",
   "nbconvert_exporter": "python",
   "pygments_lexer": "ipython3",
   "version": "3.10.9"
  }
 },
 "nbformat": 4,
 "nbformat_minor": 2
}
