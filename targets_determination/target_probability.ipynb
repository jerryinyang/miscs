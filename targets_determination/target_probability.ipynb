{
 "cells": [
  {
   "cell_type": "markdown",
   "metadata": {},
   "source": [
    "## TARGET PROBABILITY\n",
    "In this experiment, we would attempt to calculate the probability of a price target getting reached, within a period of time.\n",
    "\n",
    "### PARAMETERS\n",
    "- Forecast time range - `t_lback`\n",
    "- Forecast time range = `t_delta`\n",
    "\n",
    "#### PROCEDURE\n",
    "\n",
    "###### Feature Engineering\n",
    "- Calculate the ATR with a period of `t_lback`\n",
    "- Compute the closing price returns; price change from the previous data point\n",
    "- Compute the maximum and minimum price displacement from the current price.\n",
    "- Compute the ratios of the maximum/minimum price displacement\n",
    "\n",
    "###### Probability Analysis\n",
    "- Compute the distribution of assets return, over t_delta bars. Derive the standard deviation of the returns, and the proportion of data within 1, 2, and 3 STD\n",
    "- Compute the probability of a target being reached; the probability of selecting an asset return equal to or greater than the target"
   ]
  },
  {
   "cell_type": "code",
   "execution_count": 398,
   "metadata": {},
   "outputs": [],
   "source": [
    "# Parameters\n",
    "t_lback = 14\n",
    "t_delta = 14\n",
    "p_value = 0.05"
   ]
  },
  {
   "cell_type": "code",
   "execution_count": 399,
   "metadata": {},
   "outputs": [],
   "source": [
    "# Import the data\n",
    "import pandas as pd\n",
    "from pathlib import Path\n",
    "import pandas_ta as ta\n",
    "import quantstats as qt #noqa\n",
    "import numpy as np\n",
    "import seaborn as sns #noqa\n",
    "import matplotlib.pyplot as plt\n",
    "import numpy as np\n",
    "from scipy.stats import gaussian_kde\n",
    "from scipy.integrate import quad\n",
    "\n",
    "\n",
    "aapl_path = Path.cwd().parent / 'data/aapl_h1.csv'\n",
    "btc_path = Path.cwd().parent / 'data/btcusdt_h1.parquet'"
   ]
  },
  {
   "cell_type": "code",
   "execution_count": 445,
   "metadata": {},
   "outputs": [],
   "source": [
    "# Functions\n",
    "def get_distribution(data, title):\n",
    "    mean = np.mean(data)\n",
    "    std = np.std(data)\n",
    "    median = np.median(data)\n",
    "    \n",
    "    print(\"Mean : \", mean)\n",
    "    print(\"Standard Deviation : \", std)\n",
    "    \n",
    "    # Plot the distribution\n",
    "    plt.hist(data, bins=30, color='lightblue', edgecolor='black') \n",
    "\n",
    "    # Add vertical line at the median using plt.axvline\n",
    "    plt.axvline(x=mean, color='blue', linestyle='--', label='Mean')\n",
    "    plt.axvline(x=median, color='red', linestyle='--', label='Median')\n",
    "\n",
    "    # Customization\n",
    "    plt.title(f\"Distribution of {title}\")\n",
    "    plt.xlabel(\"Value\")\n",
    "    plt.ylabel(\"Frequency\")\n",
    "    plt.legend()  # Show the label\n",
    "\n",
    "    plt.show()\n",
    "\n",
    "def target_probability(data, test_value):\n",
    "    \"\"\"\n",
    "    Calculates the probability of the target getting reached.\n",
    "    \n",
    "    Args:\n",
    "        data (array-like): An array containing the distribution of values.\n",
    "        test_value: The value to test against.\n",
    "        \n",
    "    Returns:\n",
    "        float: The probability of selecting a number below the test value.\n",
    "    \"\"\"\n",
    "    \n",
    "    # Find the number of data points less than or equal to the test value\n",
    "    count = np.sum(data >= test_value)\n",
    "    \n",
    "    # Calculate the probability\n",
    "    probability = count / len(data)\n",
    "    \n",
    "    return round(probability, 2)\n",
    "\n",
    "def target_probability_kde(data, test_value):\n",
    "    \"\"\"\n",
    "    Calculates the probability of selecting a number greater than or equal to a test value\n",
    "    using Kernel Density Estimation (KDE), with integration bounds adjusted for robustness.\n",
    "    \n",
    "    Args:\n",
    "        data (array-like): An array containing the distribution of values.\n",
    "        test_value (float): The value to test against.\n",
    "        \n",
    "    Returns:\n",
    "        float: The probability of selecting a number above or equal to the test value.\n",
    "    \"\"\"\n",
    "    # Define KDE\n",
    "    kde = gaussian_kde(data)\n",
    "    \n",
    "    # Calculate standard deviation for the bounds\n",
    "    std = np.std(data)\n",
    "    upper_bound = max(data) + (3 * std)\n",
    "    \n",
    "    # Integration from test_value to upper bound for the probability\n",
    "    probability, _ = quad(kde, test_value, upper_bound)\n",
    "    \n",
    "    return round(probability, 2)"
   ]
  },
  {
   "cell_type": "code",
   "execution_count": 416,
   "metadata": {},
   "outputs": [
    {
     "data": {
      "text/html": [
       "<div>\n",
       "<style scoped>\n",
       "    .dataframe tbody tr th:only-of-type {\n",
       "        vertical-align: middle;\n",
       "    }\n",
       "\n",
       "    .dataframe tbody tr th {\n",
       "        vertical-align: top;\n",
       "    }\n",
       "\n",
       "    .dataframe thead th {\n",
       "        text-align: right;\n",
       "    }\n",
       "</style>\n",
       "<table border=\"1\" class=\"dataframe\">\n",
       "  <thead>\n",
       "    <tr style=\"text-align: right;\">\n",
       "      <th></th>\n",
       "      <th>datetime</th>\n",
       "      <th>open</th>\n",
       "      <th>high</th>\n",
       "      <th>low</th>\n",
       "      <th>close</th>\n",
       "      <th>volume</th>\n",
       "    </tr>\n",
       "  </thead>\n",
       "  <tbody>\n",
       "    <tr>\n",
       "      <th>0</th>\n",
       "      <td>1998-01-02 16:00:00</td>\n",
       "      <td>0.12</td>\n",
       "      <td>0.12</td>\n",
       "      <td>0.12</td>\n",
       "      <td>0.12</td>\n",
       "      <td>14512400</td>\n",
       "    </tr>\n",
       "    <tr>\n",
       "      <th>1</th>\n",
       "      <td>1998-01-02 17:00:00</td>\n",
       "      <td>0.12</td>\n",
       "      <td>0.13</td>\n",
       "      <td>0.12</td>\n",
       "      <td>0.12</td>\n",
       "      <td>52987312</td>\n",
       "    </tr>\n",
       "    <tr>\n",
       "      <th>2</th>\n",
       "      <td>1998-01-02 18:00:00</td>\n",
       "      <td>0.12</td>\n",
       "      <td>0.13</td>\n",
       "      <td>0.12</td>\n",
       "      <td>0.13</td>\n",
       "      <td>23746800</td>\n",
       "    </tr>\n",
       "  </tbody>\n",
       "</table>\n",
       "</div>"
      ],
      "text/plain": [
       "             datetime  open  high   low  close    volume\n",
       "0 1998-01-02 16:00:00  0.12  0.12  0.12   0.12  14512400\n",
       "1 1998-01-02 17:00:00  0.12  0.13  0.12   0.12  52987312\n",
       "2 1998-01-02 18:00:00  0.12  0.13  0.12   0.13  23746800"
      ]
     },
     "execution_count": 416,
     "metadata": {},
     "output_type": "execute_result"
    }
   ],
   "source": [
    "# Read Data\n",
    "# raw_data = pd.read_parquet(btc_path)\n",
    "# raw_data.reset_index(names=['datetime'], inplace=True)\n",
    "\n",
    "raw_data = pd.read_csv(aapl_path)\n",
    "raw_data['datetime'] = pd.to_datetime(raw_data['datetime'])\n",
    "raw_data.head(3)"
   ]
  },
  {
   "cell_type": "code",
   "execution_count": 386,
   "metadata": {},
   "outputs": [
    {
     "data": {
      "text/plain": [
       "(25223, 7)"
      ]
     },
     "metadata": {},
     "output_type": "display_data"
    },
    {
     "data": {
      "text/html": [
       "<div>\n",
       "<style scoped>\n",
       "    .dataframe tbody tr th:only-of-type {\n",
       "        vertical-align: middle;\n",
       "    }\n",
       "\n",
       "    .dataframe tbody tr th {\n",
       "        vertical-align: top;\n",
       "    }\n",
       "\n",
       "    .dataframe thead th {\n",
       "        text-align: right;\n",
       "    }\n",
       "</style>\n",
       "<table border=\"1\" class=\"dataframe\">\n",
       "  <thead>\n",
       "    <tr style=\"text-align: right;\">\n",
       "      <th></th>\n",
       "      <th>close</th>\n",
       "      <th>next_returns</th>\n",
       "      <th>atr</th>\n",
       "      <th>max_runup</th>\n",
       "      <th>max_rundown</th>\n",
       "      <th>runup_atr_ratio</th>\n",
       "      <th>rundown_atr_ratio</th>\n",
       "    </tr>\n",
       "  </thead>\n",
       "  <tbody>\n",
       "    <tr>\n",
       "      <th>14</th>\n",
       "      <td>7.65</td>\n",
       "      <td>0.01</td>\n",
       "      <td>0.037857</td>\n",
       "      <td>0.0</td>\n",
       "      <td>-0.18</td>\n",
       "      <td>0.0</td>\n",
       "      <td>-4.754717</td>\n",
       "    </tr>\n",
       "    <tr>\n",
       "      <th>15</th>\n",
       "      <td>7.66</td>\n",
       "      <td>-0.04</td>\n",
       "      <td>0.037296</td>\n",
       "      <td>0.0</td>\n",
       "      <td>-0.14</td>\n",
       "      <td>0.0</td>\n",
       "      <td>-3.753762</td>\n",
       "    </tr>\n",
       "    <tr>\n",
       "      <th>16</th>\n",
       "      <td>7.62</td>\n",
       "      <td>-0.03</td>\n",
       "      <td>0.039632</td>\n",
       "      <td>0.0</td>\n",
       "      <td>-0.11</td>\n",
       "      <td>0.0</td>\n",
       "      <td>-2.775540</td>\n",
       "    </tr>\n",
       "  </tbody>\n",
       "</table>\n",
       "</div>"
      ],
      "text/plain": [
       "    close  next_returns       atr  max_runup  max_rundown  runup_atr_ratio  \\\n",
       "14   7.65          0.01  0.037857        0.0        -0.18              0.0   \n",
       "15   7.66         -0.04  0.037296        0.0        -0.14              0.0   \n",
       "16   7.62         -0.03  0.039632        0.0        -0.11              0.0   \n",
       "\n",
       "    rundown_atr_ratio  \n",
       "14          -4.754717  \n",
       "15          -3.753762  \n",
       "16          -2.775540  "
      ]
     },
     "execution_count": 386,
     "metadata": {},
     "output_type": "execute_result"
    }
   ],
   "source": [
    "# FEATURE ENGINEERING\n",
    "\n",
    "# Filter the date range\n",
    "data = raw_data[(raw_data['datetime'].dt.year >= 2010) & (raw_data['datetime'].dt.year <= 2023)]\n",
    "data = data.reset_index(drop=True)\n",
    "\n",
    "# Compute Returns\n",
    "returns = data['close'].diff().fillna(0)\n",
    "# returns = data['close'].pct_change().fillna(0)\n",
    "\n",
    "# Handle Outlier in Returns : Replace with the mean\n",
    "mean_return = np.mean(returns)\n",
    "returns.loc[returns.abs() > np.percentile(returns.abs(), 99)] = mean_return # Replace outliers: returns greater than 99th percentile\n",
    "\n",
    "# Feature Engineering\n",
    "data['next_returns'] = returns.shift(-1)\n",
    "data['atr'] = ta.atr(data['high'], data['low'], data['close'], t_lback)\n",
    "\n",
    "data['max_runup'] = data['next_returns'].rolling(t_delta).apply(\n",
    "    lambda x : max(\n",
    "        np.cumsum(\n",
    "            np.pad(x, (1, 0), mode='constant', constant_values=0)))).shift(-t_delta) # Gets the max drawdown from the next [lookback] bars\n",
    "\n",
    "data['max_rundown'] = data['next_returns'].rolling(t_delta).apply(\n",
    "    lambda x : min(\n",
    "        np.cumsum(\n",
    "            np.pad(x, (1, 0), mode='constant', constant_values=0)))).shift(-t_delta) # Gets the max drawdown from the next [lookback] bars\n",
    "\n",
    "data['runup_atr_ratio'] = data['max_runup'] / data['atr']\n",
    "data['rundown_atr_ratio'] = data['max_rundown'] / data['atr']\n",
    "\n",
    "# Drop NaNs\n",
    "data = data.dropna(axis=0)\n",
    "\n",
    "full_data = data.copy()\n",
    "data = data.drop(['open', 'high', 'low', 'volume', 'datetime'], axis=1)\n",
    "\n",
    "# Print Sample\n",
    "display(data.shape)\n",
    "data.head(3)\n"
   ]
  },
  {
   "cell_type": "code",
   "execution_count": 417,
   "metadata": {},
   "outputs": [],
   "source": [
    "test_data = data['runup_atr_ratio'].dropna().to_numpy()"
   ]
  },
  {
   "cell_type": "code",
   "execution_count": 448,
   "metadata": {},
   "outputs": [
    {
     "data": {
      "text/plain": [
       "(0.72, 0.72)"
      ]
     },
     "execution_count": 448,
     "metadata": {},
     "output_type": "execute_result"
    }
   ],
   "source": [
    "val = .5\n",
    "target_probability(test_data, val), target_probability_kde(test_data, val)"
   ]
  },
  {
   "cell_type": "code",
   "execution_count": 444,
   "metadata": {},
   "outputs": [
    {
     "data": {
      "text/plain": [
       "0.37475270722056586"
      ]
     },
     "execution_count": 444,
     "metadata": {},
     "output_type": "execute_result"
    }
   ],
   "source": []
  },
  {
   "cell_type": "code",
   "execution_count": 443,
   "metadata": {},
   "outputs": [
    {
     "name": "stdout",
     "output_type": "stream",
     "text": [
      "Mean :  1.8953669137170244\n",
      "Standard Deviation :  2.058875594917536\n"
     ]
    },
    {
     "data": {
      "image/png": "[encoded data removed]",
      "text/plain": [
       "<Figure size 1000x600 with 1 Axes>"
      ]
     },
     "metadata": {},
     "output_type": "display_data"
    }
   ],
   "source": [
    "get_distribution(data['runup_atr_ratio'], 'Probability of Condition A')"
   ]
  }
 ],
 "metadata": {
  "kernelspec": {
   "display_name": "venv",
   "language": "python",
   "name": "python3"
  },
  "language_info": {
   "codemirror_mode": {
    "name": "ipython",
    "version": 3
   },
   "file_extension": ".py",
   "mimetype": "text/x-python",
   "name": "python",
   "nbconvert_exporter": "python",
   "pygments_lexer": "ipython3",
   "version": "3.10.9"
  }
 },
 "nbformat": 4,
 "nbformat_minor": 2
}
