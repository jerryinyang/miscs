{
 "cells": [
  {
   "cell_type": "code",
   "execution_count": 2,
   "metadata": {},
   "outputs": [],
   "source": [
    "def check_feasibility(odd_1, odd_2):\n",
    "    return [(odd_2 * (odd_1 - 1)) > odd_1, (odd_1 * (odd_2 - 1)) > odd_2]\n"
   ]
  },
  {
   "cell_type": "code",
   "execution_count": 13,
   "metadata": {},
   "outputs": [],
   "source": [
    "def calculate_hedge(odd_1, odd_2, capital):\n",
    "    sum = ((1/odd_1) + (1/odd_2))\n",
    "    feasible = sum < 1s\n",
    "\n",
    "    print(f\"Sum: {sum}\")\n",
    "\n",
    "    if feasible:\n",
    "        return ((1/odd_1) / sum) * capital, ((1/odd_2) / sum) * capital\n",
    "\n",
    "    else:\n",
    "        return False"
   ]
  },
  {
   "cell_type": "code",
   "execution_count": 17,
   "metadata": {},
   "outputs": [
    {
     "name": "stdout",
     "output_type": "stream",
     "text": [
      "Sum: 0.80765639589169\n"
     ]
    },
    {
     "data": {
      "text/plain": [
       "(12138.72832369942, 7861.271676300577)"
      ]
     },
     "execution_count": 17,
     "metadata": {},
     "output_type": "execute_result"
    }
   ],
   "source": [
    "calculate_hedge(2.04, 3.15, 20000)"
   ]
  }
 ],
 "metadata": {
  "kernelspec": {
   "display_name": "venv",
   "language": "python",
   "name": "python3"
  },
  "language_info": {
   "codemirror_mode": {
    "name": "ipython",
    "version": 3
   },
   "file_extension": ".py",
   "mimetype": "text/x-python",
   "name": "python",
   "nbconvert_exporter": "python",
   "pygments_lexer": "ipython3",
   "version": "3.12.0"
  }
 },
 "nbformat": 4,
 "nbformat_minor": 2
}
