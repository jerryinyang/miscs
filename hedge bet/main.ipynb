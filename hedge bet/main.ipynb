{
 "cells": [
  {
   "cell_type": "code",
   "execution_count": 1,
   "metadata": {},
   "outputs": [],
   "source": [
    "def check_feasibility(odd_1, odd_2):\n",
    "    return [(odd_2 * (odd_1 - 1)) > odd_1, (odd_1 * (odd_2 - 1)) > odd_2]\n"
   ]
  },
  {
   "cell_type": "code",
   "execution_count": 2,
   "metadata": {},
   "outputs": [],
   "source": [
    "def calculate_hedge(odd_1, odd_2, capital):\n",
    "    sum = ((1/odd_1) + (1/odd_2))\n",
    "    feasible = sum < 1\n",
    "\n",
    "    print(f\"Sum: {sum}\")\n",
    "\n",
    "    if feasible:\n",
    "        return ((1/odd_1) / sum) * capital, ((1/odd_2) / sum) * capital\n",
    "\n",
    "    else:\n",
    "        return False"
   ]
  },
  {
   "cell_type": "code",
   "execution_count": 6,
   "metadata": {},
   "outputs": [
    {
     "name": "stdout",
     "output_type": "stream",
     "text": [
      "Sum: 1.0866910866910866\n"
     ]
    },
    {
     "data": {
      "text/plain": [
       "False"
      ]
     },
     "execution_count": 6,
     "metadata": {},
     "output_type": "execute_result"
    }
   ],
   "source": [
    "calculate_hedge(1.3, 3.15, 20000)"
   ]
  }
 ],
 "metadata": {
  "kernelspec": {
   "display_name": "venv",
   "language": "python",
   "name": "python3"
  },
  "language_info": {
   "codemirror_mode": {
    "name": "ipython",
    "version": 3
   },
   "file_extension": ".py",
   "mimetype": "text/x-python",
   "name": "python",
   "nbconvert_exporter": "python",
   "pygments_lexer": "ipython3",
   "version": "3.12.0"
  }
 },
 "nbformat": 4,
 "nbformat_minor": 2
}
