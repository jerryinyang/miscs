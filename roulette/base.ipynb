{
 "cells": [
  {
   "cell_type": "markdown",
   "metadata": {},
   "source": [
    "\n",
    "The main purpose of this project is to experiment different money management techiniques that could `guarantee` long-term profitability.\n",
    "\n",
    "SCENARIO:\n",
    "\n",
    "* The experiment consists of a European roulette game (explained below) \n",
    "  * This game is an online version of European roulette where the object of the game is to successfully predict \n",
    "    which of the 37 numbered pockets the ball will land in or a characteristic of that number.\n",
    "  * By correctly predicting the winning pocket or characteristic of the winning pocket, players win an amount according to the payout for the winning bet.\n",
    "        \n",
    "* Bets are placed in a way to give a 2:1 risk-reward ratio. Each win is twice the value of a loss.\n",
    "\n",
    "* Roulette outcomes are assumed to random\n",
    "\n",
    "\n",
    "GOAL:\n",
    "* Determine the distribution of 2 wins, 1 win, and loss\n",
    "\n",
    "* Then, we would experiment different money management techiniques that could potentially exploit this game."
   ]
  },
  {
   "cell_type": "markdown",
   "metadata": {},
   "source": [
    "### PHASE ONE : DESIGN THE ROULETTE GAME\n",
    "\n",
    "The board has been replicated from the `board.png` file."
   ]
  },
  {
   "cell_type": "code",
   "execution_count": 1,
   "metadata": {},
   "outputs": [],
   "source": [
    "import numpy as np\n",
    "import matplotlib.pyplot as plt"
   ]
  },
  {
   "cell_type": "code",
   "execution_count": 2,
   "metadata": {},
   "outputs": [
    {
     "data": {
      "text/plain": [
       "array([[ 3,  6,  9, 12, 15, 18, 21, 24, 27, 30, 33, 36],\n",
       "       [ 2,  5,  8, 11, 14, 17, 20, 23, 26, 29, 32, 35],\n",
       "       [ 1,  4,  7, 10, 13, 16, 19, 22, 25, 28, 31, 34]])"
      ]
     },
     "execution_count": 2,
     "metadata": {},
     "output_type": "execute_result"
    }
   ],
   "source": [
    "# Create the board\n",
    "board = [[], [], []]\n",
    "\n",
    "for number in range(1, 37):\n",
    "    index = number % 3\n",
    "\n",
    "    board[index].append(number)\n",
    "\n",
    "board.sort(reverse=True)\n",
    "board = np.array(board)\n",
    "\n",
    "# Assign Black or Red (0 or 1)\n",
    "color = np.array([1, 0, 1, 0, 1, 0, 1, 0, 1, 0, 0, 1, 0, 1, 0, 1, 0, 1, 1, 0, 1, 0, 1, 0, 1, 0, 1, 0, 0, 1, 0, 1, 0, 1, 0, 1]).astype(bool)\n",
    "board"
   ]
  },
  {
   "cell_type": "code",
   "execution_count": 3,
   "metadata": {},
   "outputs": [
    {
     "data": {
      "text/plain": [
       "(array([0, 1]), array([0, 2]))"
      ]
     },
     "execution_count": 3,
     "metadata": {},
     "output_type": "execute_result"
    }
   ],
   "source": [
    "# Model the bets\n",
    "# Column represent number groups : Low (1-12), Mid (13-24), and High (25-36) numbers \n",
    "# Rows represent modulo-3 number groups : 0, 1, 2\n",
    "\n",
    "# Simulate the guesses\n",
    "row_guess = np.random.choice(np.arange(0, 3), size=2, replace=False)\n",
    "col_guess = np.random.choice(np.arange(0, 3), size=2, replace=False)\n",
    "row_guess, col_guess"
   ]
  },
  {
   "cell_type": "code",
   "execution_count": 4,
   "metadata": {},
   "outputs": [],
   "source": [
    "class Bet:\n",
    "    def __init__(self, row_bets, col_bets):\n",
    "        if not isinstance(row_bets, list):\n",
    "            row_bets = list(row_bets)\n",
    "\n",
    "        if not isinstance(col_bets, list):\n",
    "            col_bets = list(col_bets)\n",
    "        \n",
    "        self.row_bets = row_bets\n",
    "        self.col_bets = col_bets\n",
    "        self.count = len(row_bets) + len(col_bets)\n",
    "\n",
    "    def __repr__(self) -> str:\n",
    "        return f\"Rows Bets : {self.row_bets}. Column Bets : {self.col_bets}\"\n",
    "    \n",
    "    def __len__(self):\n",
    "        return self.count\n",
    "\n",
    "def compute_returns(bets:Bet, spins=1, bet_size=25, return_multiplier=2):\n",
    "    # Each bet is a [1 * 2] array\n",
    "    # Each result is a [1 * 2] array\n",
    "    # print(f'Your Bets are : {bets}. \\nTotal bets : ${bets.count * bet_size}')\n",
    "\n",
    "    # Generate the spin results for the bets\n",
    "    results = np.random.randint(0, 37, spins)\n",
    "    # print(f'The spin results are {results}')\n",
    "\n",
    "    # Generate the result coordinates\n",
    "    coords = generate_result_coordinate(results)\n",
    "    # print(f'Coordinates : {coords}')\n",
    "\n",
    "    # Calculate the returns\n",
    "    returns = 0 # bets.count * -bet_size\n",
    "\n",
    "    for result in coords:\n",
    "        # Row bets\n",
    "        for row_bet in bets.row_bets:\n",
    "            if row_bet == result[0]:\n",
    "                returns += bet_size + (bet_size * return_multiplier)\n",
    "            \n",
    "            returns -= bet_size\n",
    "\n",
    "        # Column bets\n",
    "        for col_bet in bets.col_bets:\n",
    "            if col_bet == result[1]:\n",
    "                returns += bet_size + (bet_size * return_multiplier)\n",
    "            \n",
    "            returns -= bet_size\n",
    "\n",
    "    return returns\n",
    "\n",
    "def generate_result_coordinate(results): \n",
    "    \"\"\"\n",
    "    Compute the numbers row and column index \n",
    "    \"\"\"\n",
    "\n",
    "    # For every spin, return its row and column number\n",
    "    col_result = np.floor_divide(results - 1, 12)  # Offsets for 0-based indexing \n",
    "\n",
    "    row_result = -1 * np.ones_like(results, dtype=np.int64)\n",
    "\n",
    "    for i, value in enumerate(results):\n",
    "        index = np.where(board == value)\n",
    "\n",
    "        if index[0].size > 0:  # Check if any elements matched\n",
    "            row_result[i] = int(index[0][0])  # Assign the first row index\n",
    "        else:\n",
    "            row_result[i] = -1  # Assuming -1 represents 'not found'\n",
    "\n",
    "    coords = []\n",
    "\n",
    "    for i in range(len(results)):\n",
    "        coords.append([row_result[i], col_result[i]])\n",
    "\n",
    "    return np.array(coords)\n",
    "\n",
    "def random_guess():\n",
    "    return np.random.choice(np.arange(0, 3), size=2, replace=False)"
   ]
  },
  {
   "cell_type": "code",
   "execution_count": 5,
   "metadata": {},
   "outputs": [
    {
     "data": {
      "text/plain": [
       "-25"
      ]
     },
     "execution_count": 5,
     "metadata": {},
     "output_type": "execute_result"
    }
   ],
   "source": [
    "bett = Bet(random_guess(), random_guess())\n",
    "compute_returns(bett)"
   ]
  },
  {
   "cell_type": "code",
   "execution_count": 103,
   "metadata": {},
   "outputs": [
    {
     "name": "stdout",
     "output_type": "stream",
     "text": [
      "Win Rate : 43.0%\n"
     ]
    },
    {
     "data": {
      "image/png": "[encoded data removed]",
      "text/plain": [
       "<Figure size 640x480 with 1 Axes>"
      ]
     },
     "metadata": {},
     "output_type": "display_data"
    }
   ],
   "source": [
    "# Test over 10000 iterations \n",
    "rets = []\n",
    "bet = Bet([0], [0])\n",
    "\n",
    "for i in range(10000):\n",
    "    # bet = Bet(random_guess(), random_guess())\n",
    "    rets.append(compute_returns(bett))\n",
    "\n",
    "\n",
    "rets = np.array(rets)\n",
    "wins = rets[rets > 0]\n",
    "loss = rets[rets == -100]\n",
    "\n",
    "print(f\"Win Rate : {round(len(wins) / len(rets), 2) * 100}%\")\n",
    "\n",
    "plt.plot(np.cumsum(rets))\n",
    "plt.show()\n"
   ]
  },
  {
   "cell_type": "code",
   "execution_count": 59,
   "metadata": {},
   "outputs": [
    {
     "data": {
      "text/plain": [
       "array([-100,  -25,   50])"
      ]
     },
     "execution_count": 59,
     "metadata": {},
     "output_type": "execute_result"
    }
   ],
   "source": [
    "np.unique(rets)"
   ]
  }
 ],
 "metadata": {
  "kernelspec": {
   "display_name": "venv",
   "language": "python",
   "name": "python3"
  },
  "language_info": {
   "codemirror_mode": {
    "name": "ipython",
    "version": 3
   },
   "file_extension": ".py",
   "mimetype": "text/x-python",
   "name": "python",
   "nbconvert_exporter": "python",
   "pygments_lexer": "ipython3",
   "version": "3.10.9"
  }
 },
 "nbformat": 4,
 "nbformat_minor": 2
}
