{
 "cells": [
  {
   "cell_type": "markdown",
   "metadata": {},
   "source": [
    "# TARGET DETERMINATION FOR PIP MINER MODEL\n",
    "\n",
    "This experiment is an extension of the `parameters` experiment. Given the range of with stable Martin Ratio:\n",
    "- what cluster identity should be selected? How can we combine them into a strategy?\n",
    "- what could be the exit strategy for the strategy?"
   ]
  },
  {
   "cell_type": "code",
   "execution_count": 1,
   "metadata": {},
   "outputs": [],
   "source": [
    "# Import Necessary Libraries, Define the parameters\n",
    "import logging\n",
    "from pathlib import Path\n",
    "import matplotlib.pyplot as plt\n",
    "import numpy as np\n",
    "import pandas as pd\n",
    "import pandas_ta as ta\n",
    "import plotly.graph_objects as go\n",
    "import quantstats as qt\n",
    "import seaborn as sns\n",
    "from quantminer import Miner\n",
    "\n",
    "logger = logging.getLogger('optuna')\n",
    "logger.setLevel(logging.WARNING)\n",
    "\n",
    "data_dir = Path.cwd().parent / 'data'"
   ]
  },
  {
   "cell_type": "markdown",
   "metadata": {},
   "source": [
    "### STEP 0 : DATA PREPARATION AND MODEL TRAINING\n",
    "- Asset : EURUSD, 1-hour\n",
    "- Parameter\n",
    "  - n_pivots : 3; 4\n",
    "  - n_clusters : 16; 15 \n",
    "  - n_lookback : 8; 14\n",
    "  - hold_period : 2, 3"
   ]
  },
  {
   "cell_type": "code",
   "execution_count": 2,
   "metadata": {},
   "outputs": [],
   "source": [
    "# Read Price Data\n",
    "data_path = data_dir / 'eur_h1.parquet'\n",
    "raw_data = pd.read_parquet(data_path)\n",
    "\n",
    "# Clean the data\n",
    "data = raw_data.copy()\n",
    "data = data.dropna()\n",
    "\n",
    "# Feature Engineering\n",
    "data['returns'] = data['close'].diff().fillna(0)\n",
    "data['returns+1'] = data['returns'].shift(-1)\n",
    "\n",
    "# Prepare the training data\n",
    "train_daterange = pd.date_range('2010-01-01', '2021-12-31', freq='1h')\n",
    "train_df = data[data.index.isin(train_daterange)]\n",
    "train_data = np.array(train_df['close'])"
   ]
  },
  {
   "cell_type": "code",
   "execution_count": 3,
   "metadata": {},
   "outputs": [
    {
     "data": {
      "text/plain": [
       "11.722329145998637"
      ]
     },
     "execution_count": 3,
     "metadata": {},
     "output_type": "execute_result"
    }
   ],
   "source": [
    "# Parameters\n",
    "n_pivots=3\n",
    "n_clusters = 24\n",
    "n_lookback=15\n",
    "hold_period=3\n",
    "\n",
    "miner = Miner(\n",
    "    n_pivots=n_pivots,\n",
    "    n_clusters=n_clusters,\n",
    "    n_lookback=n_lookback,\n",
    "    hold_period=hold_period,\n",
    "    model_type='sequential'\n",
    ")\n",
    "\n",
    "# Fit the model\n",
    "miner.fit(train_data)"
   ]
  },
  {
   "cell_type": "code",
   "execution_count": 4,
   "metadata": {},
   "outputs": [],
   "source": [
    "# Create a feature for the predicted labels\n",
    "data['cluster_labels'] = miner.transform(data['close']).astype(int)\n",
    "train_df = data[data.index.isin(train_daterange)]"
   ]
  },
  {
   "cell_type": "code",
   "execution_count": 5,
   "metadata": {},
   "outputs": [],
   "source": [
    "# Fixed Parameters\n",
    "# fig_base = go.Figure()\n",
    "# for _ in range(n_clusters):\n",
    "#     fig_base.add_trace(go.Scatter(x=train_df.index, y=train_df['close'], mode='lines'))\n",
    "# fig_base.show()"
   ]
  }
 ],
 "metadata": {
  "kernelspec": {
   "display_name": "Python 3",
   "language": "python",
   "name": "python3"
  },
  "language_info": {
   "codemirror_mode": {
    "name": "ipython",
    "version": 3
   },
   "file_extension": ".py",
   "mimetype": "text/x-python",
   "name": "python",
   "nbconvert_exporter": "python",
   "pygments_lexer": "ipython3",
   "version": "3.9.0"
  }
 },
 "nbformat": 4,
 "nbformat_minor": 5
}
