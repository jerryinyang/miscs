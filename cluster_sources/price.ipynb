{
 "cells": [
  {
   "cell_type": "markdown",
   "metadata": {},
   "source": [
    "# CLUSTERING BASED ON PRICE\n",
    "For this experiment, we would assign market regimes based direction on price, or price-related features. The cluster sources to try out are:\n",
    "- Price\n",
    "- Returns / Change in Price\n",
    "- Smoothed Price (EMA)\n",
    "- Smoothed Returns (EMA)\n",
    "\n",
    "The price data for this experiment would be : 1 Hour \n",
    "- BTCUDST\n",
    "- EURUSD"
   ]
  },
  {
   "cell_type": "code",
   "execution_count": null,
   "metadata": {},
   "outputs": [],
   "source": [
    "# Import necessary libraries\n",
    "from copy import deepcopy\n",
    "from pathlib import Path\n",
    "\n",
    "import matplotlib.pyplot as plt\n",
    "import numpy as np\n",
    "import pandas as pd\n",
    "import pandas_ta as ta\n",
    "import plotly.express as px\n",
    "import plotly.graph_objects as go\n",
    "from quantminer import Miner\n",
    "\n",
    "data_dir = Path.cwd().parent / 'data'"
   ]
  },
  {
   "cell_type": "code",
   "execution_count": null,
   "metadata": {},
   "outputs": [],
   "source": [
    "# Read Price Data\n",
    "data_path = data_dir / 'eur_h1.parquet'\n",
    "raw_data = pd.read_parquet(data_path)"
   ]
  },
  {
   "cell_type": "code",
   "execution_count": null,
   "metadata": {},
   "outputs": [],
   "source": [
    "# Clean the data\n",
    "data = raw_data.copy()\n",
    "data = data.dropna(axis=0)\n",
    "data = data.drop(['volume'], axis=1)\n",
    "\n",
    "# Feature Engineering\n",
    "data['returns'] = data['close'].diff().fillna(0)\n",
    "data = data[(data.index.year >=2010) & (data.index.year <= 2010) ]"
   ]
  },
  {
   "cell_type": "code",
   "execution_count": null,
   "metadata": {},
   "outputs": [],
   "source": [
    "data"
   ]
  },
  {
   "cell_type": "code",
   "execution_count": null,
   "metadata": {},
   "outputs": [],
   "source": [
    "# Create the miner model\n",
    "n_pivots=3\n",
    "n_clusters = 8\n",
    "n_lookback=15\n",
    "hold_period=8\n",
    "\n",
    "miner = Miner(\n",
    "    n_pivots=n_pivots,\n",
    "    n_clusters=n_clusters,\n",
    "    n_lookback=n_lookback,\n",
    "    hold_period=hold_period,\n",
    "    model_type='standard'\n",
    ")"
   ]
  },
  {
   "cell_type": "code",
   "execution_count": null,
   "metadata": {},
   "outputs": [],
   "source": [
    "def visualize_clustering(_data, labels_column):\n",
    "    data = _data.copy()\n",
    "\n",
    "    # Ensure labels_column is a string type for coloring\n",
    "    data[labels_column] = data[labels_column].astype(str)\n",
    "\n",
    "    # Plot using Plotly Express\n",
    "    fig = px.scatter(data, x=data.index, y='close', color=data[labels_column],\n",
    "                     title='Price Time Series by Category',\n",
    "                     labels={'close': 'Price', 'date': 'Date'},\n",
    "                     color_discrete_sequence=px.colors.qualitative.Set1)\n",
    "\n",
    "    # Add line plot for the closing prices\n",
    "    fig.add_trace(go.Scatter(x=data.index, y=data['close'],\n",
    "                             mode='lines', name='Original Close'))\n",
    "\n",
    "    # Add toggle to legend entries to show/hide\n",
    "    fig.update_layout(legend_title='Category',\n",
    "                      legend=dict(itemsizing='constant'),  # Ensures consistent legend marker size\n",
    "                      clickmode='event+select')  # Enables deselecting and selecting legend items\n",
    "\n",
    "    # Show the plot\n",
    "    fig.show()\n",
    "\n",
    "\n",
    "def visualize_returns(data, labels_column):\n",
    "    # Fixed Parameters\n",
    "    fig_base = go.Figure()\n",
    "    for _ in range(n_clusters):\n",
    "        _signals = miner.apply_holding_period(data[labels_column], selected_labels=[_])\n",
    "        _signals = np.where(_signals != -1, 1, 0)\n",
    "        _ret = data['returns'] * _signals\n",
    "\n",
    "        _cumsum = np.cumsum(_ret)\n",
    "        fig_base.add_trace(go.Scatter(x=_cumsum.index, y=_cumsum, mode='lines', name=f' Clusters {_}'))\n",
    "\n",
    "    fig_base.update_layout(title='Cluster Returns Over Time',\n",
    "                    xaxis_title='Time',\n",
    "                    yaxis_title='Cumulative Returns',\n",
    "                    legend_title='Clusters',\n",
    "                    hovermode='closest',\n",
    "                    )\n",
    "\n",
    "    fig_base.show()"
   ]
  },
  {
   "cell_type": "markdown",
   "metadata": {},
   "source": [
    "## CLUSTERING ONE : RAW PRICE"
   ]
  },
  {
   "cell_type": "code",
   "execution_count": null,
   "metadata": {},
   "outputs": [],
   "source": [
    "# Fit the miner / Generate the labels\n",
    "miner_price = deepcopy(miner)\n",
    "data_price = np.array(data['close'])\n",
    "\n",
    "print(\"Martin Score : \", miner_price.fit(data_price))\n",
    "data['labels_price'] = miner_price.transform(data_price).astype(int)\n"
   ]
  },
  {
   "cell_type": "code",
   "execution_count": null,
   "metadata": {},
   "outputs": [],
   "source": [
    "visualize_clustering(data, 'labels_price')\n",
    "visualize_returns(data, 'labels_price')"
   ]
  },
  {
   "cell_type": "markdown",
   "metadata": {},
   "source": [
    "## CLUSTERING TWO : SMOOTHED PRICE\n"
   ]
  },
  {
   "cell_type": "code",
   "execution_count": null,
   "metadata": {},
   "outputs": [],
   "source": [
    "# Fit the miner / Generate the labels\n",
    "miner_price_smooth = deepcopy(miner)\n",
    "ema = ta.ema(data['close'], 168).fillna(data['close'])\n",
    "\n",
    "data_price_smooth = np.array(ema)\n",
    "\n",
    "print(\"Martin Score : \", miner_price_smooth.fit(data_price_smooth))\n",
    "data['labels_price_smooth'] = miner_price_smooth.transform(data_price_smooth).astype(int)"
   ]
  },
  {
   "cell_type": "code",
   "execution_count": null,
   "metadata": {},
   "outputs": [],
   "source": [
    "visualize_clustering(data, 'labels_price_smooth')\n",
    "visualize_returns(data, 'labels_price_smooth')"
   ]
  },
  {
   "cell_type": "code",
   "execution_count": null,
   "metadata": {},
   "outputs": [],
   "source": [
    "## CLUSTERING THREE : RETURNS\n",
    "miner_returns = deepcopy(miner)\n",
    "data_returns = np.array(data['returns'].fillna(0))\n",
    "\n",
    "# Shift the data to avoid np.loog nan\n",
    "min_return = np.min(data_returns)\n",
    "shift_value = abs(min_return) + 0.01\n",
    "\n",
    "data_returns += shift_value\n",
    "\n",
    "print(\"Martin Score : \", miner_returns.fit(data_returns))\n",
    "data['labels_returns'] = miner_returns.transform(data_returns).astype(int)"
   ]
  },
  {
   "cell_type": "code",
   "execution_count": null,
   "metadata": {},
   "outputs": [],
   "source": [
    "visualize_clustering(data, 'labels_returns')\n",
    "visualize_returns(data, 'labels_returns')"
   ]
  }
 ],
 "metadata": {
  "kernelspec": {
   "display_name": "venv",
   "language": "python",
   "name": "python3"
  },
  "language_info": {
   "codemirror_mode": {
    "name": "ipython",
    "version": 3
   },
   "file_extension": ".py",
   "mimetype": "text/x-python",
   "name": "python",
   "nbconvert_exporter": "python",
   "pygments_lexer": "ipython3",
   "version": "3.12.0"
  }
 },
 "nbformat": 4,
 "nbformat_minor": 2
}
