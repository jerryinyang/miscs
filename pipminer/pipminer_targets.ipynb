{
 "cells": [
  {
   "cell_type": "markdown",
   "metadata": {},
   "source": [
    "# TARGET DETERMINATION FOR PIP MINER MODEL\n",
    "\n",
    "In this experiment, we would explore different exit methods for the signal generated from the Miner class."
   ]
  },
  {
   "cell_type": "code",
   "execution_count": 10,
   "metadata": {},
   "outputs": [],
   "source": [
    "# Import Necessary Libraries, Define the parameters\n",
    "import logging\n",
    "from pathlib import Path\n",
    "from typing import Tuple\n",
    "\n",
    "import matplotlib.pyplot as plt\n",
    "import numpy as np\n",
    "import pandas as pd\n",
    "import plotly.graph_objects as go\n",
    "import quantstats as qt\n",
    "from plotly.offline import plot as plot_offline\n",
    "from quantminer import Miner\n",
    "\n",
    "logger = logging.getLogger('optuna')\n",
    "logger.setLevel(logging.WARNING)\n",
    "\n",
    "data_dir = Path.cwd().parent / 'data'\n"
   ]
  },
  {
   "cell_type": "markdown",
   "metadata": {},
   "source": [
    "### STEP 0 : DATA PREPARATION AND MODELS TRAINING\n",
    "- Asset : EURUSD, 1-hour\n",
    "- Parameter\n",
    "  - n_pivots\n",
    "  - n_clusters\n",
    "  - n_lookback\n",
    "  - hold_period"
   ]
  },
  {
   "cell_type": "code",
   "execution_count": 11,
   "metadata": {},
   "outputs": [],
   "source": [
    "# Read Price Data\n",
    "data_path = data_dir / 'eur_h1.parquet'\n",
    "raw_data = pd.read_parquet(data_path)\n",
    "\n",
    "# Clean the data\n",
    "data = raw_data.copy()\n",
    "data = data.dropna()\n",
    "\n",
    "# Feature Engineering\n",
    "data['returns'] = data['close'].diff().fillna(0)\n",
    "data['returns+1'] = data['returns'].shift(-1)\n",
    "\n",
    "# Prepare the training data\n",
    "train_daterange_start = 2010\n",
    "train_daterange_end = 2021\n",
    "\n",
    "train_data = data[(data.index.year >= train_daterange_start) & (data.index.year <= train_daterange_end)]['close']\n",
    "train_data = np.array(train_data)"
   ]
  },
  {
   "cell_type": "markdown",
   "metadata": {},
   "source": [
    "### STEP 1 : PARAMETER SENSITIVITY"
   ]
  },
  {
   "cell_type": "code",
   "execution_count": 29,
   "metadata": {},
   "outputs": [
    {
     "name": "stdout",
     "output_type": "stream",
     "text": [
      "Best parameters:  {'n_pivots': 3, 'n_clusters': 15, 'n_lookback': 101, 'hold_period': 2}\n",
      "Best value (metric):  10.205534189187228\n"
     ]
    }
   ],
   "source": [
    "# Functions for Parameter Sensitivity test\n",
    "import optuna\n",
    "\n",
    "\n",
    "def run_strategy(n_pivots, n_clusters, n_lookback, hold_period):\n",
    "\n",
    "    data = np.array(train_data)\n",
    "\n",
    "    # Initialize the model\n",
    "    miner = Miner(\n",
    "        n_lookback=n_lookback,\n",
    "        n_pivots=n_pivots,\n",
    "        hold_period=hold_period,\n",
    "        n_clusters = n_clusters,\n",
    "    )\n",
    "    \n",
    "    # Fit the model\n",
    "    return miner.fit(data)\n",
    "\n",
    "\n",
    "def objective(trial):\n",
    "    n_pivots = trial.suggest_int('n_pivots', 3, 8)\n",
    "    n_clusters = trial.suggest_int('n_clusters', 3, 16)\n",
    "    n_lookback = trial.suggest_int('n_lookback', 8, 120)\n",
    "    hold_period = trial.suggest_int('hold_period', 1, 24)\n",
    "    \n",
    "    UPI = run_strategy(n_pivots, n_clusters, n_lookback, hold_period) # Ulcer Performance Index\n",
    "    return UPI \n",
    "\n",
    "\n",
    "# Setup and run the optimization\n",
    "def optimize_trading_params():\n",
    "    study = optuna.create_study(direction='maximize', sampler=optuna.samplers.TPESampler())\n",
    "    study.optimize(objective, n_trials=2)\n",
    "    \n",
    "    print(\"Best parameters: \", study.best_params)\n",
    "    print(\"Best value (metric): \", study.best_value)\n",
    "\n",
    "    return study\n",
    "\n",
    "def compile_results(study):\n",
    "    results = []\n",
    "    for trial in study.trials:\n",
    "        params:dict = trial.params\n",
    "        params.update(\n",
    "            martin=trial.value,\n",
    "            state=trial.state\n",
    "        )\n",
    "\n",
    "        results.append(params)\n",
    "\n",
    "    results_df = pd.DataFrame(results)\n",
    "    results_df.to_parquet()\n",
    "    return results_df\n",
    "\n",
    "\n",
    "# Execute the optimization\n",
    "study = optimize_trading_params()"
   ]
  },
  {
   "cell_type": "code",
   "execution_count": 25,
   "metadata": {},
   "outputs": [
    {
     "data": {
      "text/html": [
       "<div>\n",
       "<style scoped>\n",
       "    .dataframe tbody tr th:only-of-type {\n",
       "        vertical-align: middle;\n",
       "    }\n",
       "\n",
       "    .dataframe tbody tr th {\n",
       "        vertical-align: top;\n",
       "    }\n",
       "\n",
       "    .dataframe thead th {\n",
       "        text-align: right;\n",
       "    }\n",
       "</style>\n",
       "<table border=\"1\" class=\"dataframe\">\n",
       "  <thead>\n",
       "    <tr style=\"text-align: right;\">\n",
       "      <th></th>\n",
       "      <th>n_pivots</th>\n",
       "      <th>n_clusters</th>\n",
       "      <th>n_lookback</th>\n",
       "      <th>hold_period</th>\n",
       "      <th>martin</th>\n",
       "      <th>state</th>\n",
       "    </tr>\n",
       "  </thead>\n",
       "  <tbody>\n",
       "    <tr>\n",
       "      <th>0</th>\n",
       "      <td>7</td>\n",
       "      <td>7</td>\n",
       "      <td>51</td>\n",
       "      <td>10</td>\n",
       "      <td>9.28253</td>\n",
       "      <td>1</td>\n",
       "    </tr>\n",
       "    <tr>\n",
       "      <th>1</th>\n",
       "      <td>6</td>\n",
       "      <td>7</td>\n",
       "      <td>54</td>\n",
       "      <td>19</td>\n",
       "      <td>6.20910</td>\n",
       "      <td>1</td>\n",
       "    </tr>\n",
       "  </tbody>\n",
       "</table>\n",
       "</div>"
      ],
      "text/plain": [
       "   n_pivots  n_clusters  n_lookback  hold_period   martin  state\n",
       "0         7           7          51           10  9.28253      1\n",
       "1         6           7          54           19  6.20910      1"
      ]
     },
     "execution_count": 25,
     "metadata": {},
     "output_type": "execute_result"
    }
   ],
   "source": [
    "show_full_results(study)"
   ]
  },
  {
   "cell_type": "code",
   "execution_count": 31,
   "metadata": {},
   "outputs": [],
   "source": [
    "def param_sens(range_n_pivots: Tuple[int, int], range_n_clusters: Tuple[int, int], \n",
    "               range_n_lookback: Tuple[int, int], range_hold_period: Tuple[int, int]):\n",
    "    results = {\n",
    "        'n_pivots' : [],\n",
    "        'n_clusters' : [],\n",
    "        'n_lookback' : [],\n",
    "        'hold_period' : [],\n",
    "        'martin_ratio' : [],\n",
    "        'profit_factor' : [],\n",
    "        'sharpe_factor' : [],\n",
    "        'profit_ratio' : []\n",
    "    }\n",
    "\n",
    "    for n_pivots in range_n_pivots:\n",
    "        for n_clusters in range_n_clusters:\n",
    "            for n_lookback in range_n_lookback:\n",
    "                for hold_period in range_hold_period:\n",
    "\n",
    "                    # Run strategy with parameters\n",
    "                    martin_ratio = 1\n",
    "                    profit_factor = 1\n",
    "                    sharpe_factor = 1\n",
    "                    profit_ratio = 1\n",
    "\n",
    "                    # Update Performances\n",
    "                    results[\"n_pivots\"].append(n_pivots)\n",
    "                    results[\"n_clusters\"].append(n_clusters)\n",
    "                    results[\"n_lookback\"].append(n_lookback)\n",
    "                    results[\"hold_period\"].append(hold_period)\n",
    "                    results[\"profit_ratio\"].append(martin_ratio)\n",
    "                    results[\"martin_ratio\"].append(profit_factor)\n",
    "                    results[\"profit_factor\"].append(sharpe_factor)\n",
    "                    results[\"sharpe_factor\"].append(profit_ratio)\n",
    "\n",
    "\n",
    "    return pd.DataFrame(results)\n",
    "\n"
   ]
  },
  {
   "cell_type": "code",
   "execution_count": null,
   "metadata": {},
   "outputs": [],
   "source": [
    "# miner_swing = Miner(\n",
    "#     n_lookback=120,\n",
    "#     n_pivots=n_pivots,\n",
    "#     hold_period=24,\n",
    "#     n_clusters = n_clusters,\n",
    "# )\n",
    "# miner_day = Miner(\n",
    "#     n_lookback=24,\n",
    "#     n_pivots=n_pivots,\n",
    "#     hold_period=4,\n",
    "#     n_clusters = n_clusters,\n",
    "# )\n",
    "# miner_scalp = Miner(\n",
    "#     n_lookback=12,\n",
    "#     n_pivots=n_pivots,\n",
    "#     hold_period=3,\n",
    "#     n_clusters = n_clusters,\n",
    "# )"
   ]
  },
  {
   "cell_type": "code",
   "execution_count": 20,
   "metadata": {},
   "outputs": [
    {
     "name": "stdout",
     "output_type": "stream",
     "text": [
      "Clustering data...\n",
      "Clustering complete\n",
      "Training Complete :  1.2278072117031587\n",
      "Clustering data...\n",
      "Clustering complete\n",
      "Training Complete :  9.049984883084344\n",
      "Clustering data...\n",
      "Clustering complete\n",
      "Training Complete :  9.16674557364746\n"
     ]
    }
   ],
   "source": [
    "# # Prepare the training data; Fit the model\n",
    "# train_daterange_start = 2010\n",
    "# train_daterange_end = 2021\n",
    "\n",
    "# train_data = data[(data.index.year >= train_daterange_start) & (data.index.year <= train_daterange_end)]['close']\n",
    "# train_data = np.array(train_data)\n",
    "\n",
    "# # # Fit the model\n",
    "# miner_swing.fit(train_data)\n",
    "# miner_day.fit(train_data)\n",
    "# miner_scalp.fit(train_data)"
   ]
  },
  {
   "cell_type": "code",
   "execution_count": null,
   "metadata": {},
   "outputs": [],
   "source": []
  },
  {
   "cell_type": "code",
   "execution_count": 38,
   "metadata": {},
   "outputs": [],
   "source": [
    "# # Create a feature for the predicted labels\n",
    "# data['cluster_labels'] = miner.transform(data['close']).astype(int)\n",
    "# # x = miner.apply_holding_period(data['cluster_labels'])"
   ]
  },
  {
   "cell_type": "code",
   "execution_count": 39,
   "metadata": {},
   "outputs": [
    {
     "data": {
      "text/plain": [
       "'my_plot.html'"
      ]
     },
     "execution_count": 39,
     "metadata": {},
     "output_type": "execute_result"
    }
   ],
   "source": [
    "# # Fixed Hold-Period, Different Clusters\n",
    "# fig_0 = go.Figure()\n",
    "# for _ in range(n_clusters):\n",
    "#     for hp in range(1, 24):\n",
    "#         _signals = miner.apply_holding_period(data['cluster_labels'], hold_period=hp, selected_labels=[_])\n",
    "#         _signals = np.where(_signals != -1, 1, 0)\n",
    "#         _ret = data['returns'] * _signals\n",
    "\n",
    "#         _cumsum = np.cumsum(_ret)\n",
    "#         fig_0.add_trace(go.Scatter(x=_cumsum.index, y=_cumsum, mode='lines', name=f'L-{_}; HP-{hp}'))\n",
    "\n",
    "# fig_0.update_layout(title='Cluster Returns Over Time',\n",
    "#                   xaxis_title='Time',\n",
    "#                   yaxis_title='Cumulative Returns',\n",
    "#                   legend_title='Clusters',\n",
    "#                   hovermode='closest',\n",
    "#                   )\n",
    "\n",
    "# plot_offline(fig_0, filename='my_plot.html')"
   ]
  },
  {
   "cell_type": "code",
   "execution_count": 40,
   "metadata": {},
   "outputs": [],
   "source": [
    "# train_data = data[(data.index.year >= train_daterange_start) & (data.index.year <= train_daterange_end)]\n",
    "# test_data = data[(data.index.year > train_daterange_end)]"
   ]
  },
  {
   "cell_type": "code",
   "execution_count": 41,
   "metadata": {},
   "outputs": [],
   "source": [
    "# fig = go.Figure()\n",
    "\n",
    "# for cluster_index in range(n_clusters):\n",
    "#     cluster_backtest = train_data.loc[train_data['cluster_labels'] == cluster_index, 'returns+1']\n",
    "#     cumsum_backtest = np.cumsum(cluster_backtest)\n",
    "#     fig.add_trace(go.Scatter(x=cumsum_backtest.index, y=cumsum_backtest, mode='lines', name=f'Cluster {cluster_index}'))\n",
    "\n",
    "# fig.update_layout(title='Cluster Returns Over Time',\n",
    "#                   xaxis_title='Time',\n",
    "#                   yaxis_title='Cumulative Returns',\n",
    "#                   legend_title='Clusters',\n",
    "#                   hovermode='closest',\n",
    "#                   height=600)\n",
    "\n",
    "# fig.show()"
   ]
  },
  {
   "cell_type": "code",
   "execution_count": 42,
   "metadata": {},
   "outputs": [],
   "source": [
    "# for _ in range(-1, n_clusters):\n",
    "#     backtest_insample = train_data.loc[train_data['cluster_labels'] == _, 'returns+1']\n",
    "#     backtest_outsample = test_data.loc[test_data['cluster_labels'] == _, 'returns+1']\n",
    "\n",
    "#     print(F\"\\n\\n----- CLUSTER {_} -----\")\n",
    "#     print(f\"IN-SAMPLE :\\n\\tLONG :{qt.stats.sharpe(backtest_insample)}\\n\\tSHORT :{qt.stats.sharpe(backtest_insample * -1)}\")\n",
    "#     print(f\"OUT-OF-SAMPLE :\\n\\tLONG :{qt.stats.sharpe(backtest_outsample)}\\n\\tSHORT :{qt.stats.sharpe(backtest_outsample * -1)}\")\n"
   ]
  }
 ],
 "metadata": {
  "kernelspec": {
   "display_name": "venv",
   "language": "python",
   "name": "python3"
  },
  "language_info": {
   "codemirror_mode": {
    "name": "ipython",
    "version": 3
   },
   "file_extension": ".py",
   "mimetype": "text/x-python",
   "name": "python",
   "nbconvert_exporter": "python",
   "pygments_lexer": "ipython3",
   "version": "3.10.9"
  }
 },
 "nbformat": 4,
 "nbformat_minor": 2
}
